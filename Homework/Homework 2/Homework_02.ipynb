#I had to copy and paste my code from VS code beacause I messed up my commit, so the weong file kept getting uploaded to github

class Goat:
    def __init__(self, name):
        self.name = name
        self.usefulness = ["Milk ", "Meat ", "Weed Control "]
        self.purpose = "Provides milk , meat , and clear overgrown weeds"

    def get_usefulness(self):
        return f"{self.name} is useful for: {','.join(self.usefulness)}."
    
    def get_purpose(self):
        return f"{self.name}'s purpose: {self.purpose}"
    
Goat=Goat(" A Goat")
print(Goat.get_usefulness())
print(Goat.get_purpose())
     
class chickens:
    def __init__(self, name):
        self.name = name
        self.usefulness = [" Eggs ", " Chicken breast ", " Feathers "]
        self.purpose = "Provides food from their eggs, meat from their slaughter , and feathers for miscellaneous activities"

    def get_usefulness(self):
        return f"{self.name} is useful for: {','.join(self.usefulness)}."
    
    def get_purpose(self):
        return f"{self.name}'s purpose: {self.purpose}"
    
chickens=chickens(" A chicken ")
print(chickens.get_usefulness())
print(chickens.get_purpose())

class bees:
    def __init__(self, name):
        self.name = name
        self.usefulness = [" Honey", " Pollination ", "Vegetation"]
        self.purpose = "Provides honey for food, pollinates other plants, and keeps vegetation healthy"

    def get_usefulness(self):
        return f"{self.name} is useful for: {','.join(self.usefulness)}."
    
    def get_purpose(self):
        return f"{self.name}'s purpose: {self.purpose}"
    
bees=bees(" A bee")
print(bees.get_usefulness())
print(bees.get_purpose())

class cows:
    def __init__(self, name):
        self.name = name
        self.usefulness = ["Milk", " steak ", " manure"]
        self.purpose = "Provides milk, steak (medium), and manure for crops"

    def get_usefulness(self):
        return f"{self.name} is useful for: {','.join(self.usefulness)}."
    
    def get_purpose(self):
        return f"{self.name}'s purpose: {self.purpose}"
    
cows=cows("A cow")
print(cows.get_usefulness())
print(cows.get_purpose())

class sheep:
    def __init__(self, name):
        self.name = name
        self.usefulness = ["Food ", " wool", " milk"]
        self.purpose = "Provides meat, wool to make into clothing, and milk as well"

    def get_usefulness(self):
        return f"{self.name} is useful for: {','.join(self.usefulness)}."
    
    def get_purpose(self):
        return f"{self.name}'s purpose: {self.purpose}"
    
sheep=sheep("A sheep")
print(sheep.get_usefulness())
print(sheep.get_purpose())

#Farm Class to Manage Animals

class Farm:
    def __init__ (self):
        self.animals = []

    def add_animals(self):
        name = input("Enter the animal's name: ")
        species = input("Enter the species (Goat, chicken, bee, cow, sheep): ").strip().lower()

        if species == "goat":
            animal = Goat(name)
        elif species == "chicken":
            animal = chickens(name)
        if species == "bee":
            animal = bees(name)
        elif species == "cow":
            animal = cows(name)
        if species == "sheep":
            animal = sheep(name)
        else:
            print("Invalid species, try again.")
            return
    
   

        
