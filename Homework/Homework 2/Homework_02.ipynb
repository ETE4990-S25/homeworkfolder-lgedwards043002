#I had to copy and paste my code from VS code beacause I messed up my commit, so the wrong file kept getting uploaded to github

{
 "cells": [
  {
   "cell_type": "markdown",
   "id": "21c6150b-c2f3-4659-9561-af7f65d461b1",
   "metadata": {},
   "source": [
    "# Homework #2\n",
    "\n",
    "## Create a Farm\n",
    "\n",
    "Old McDonald is dyslexic OIEIE...\n",
    "Please help on his farm, please... \n",
    "\n",
    "Your goal is to categorize all of his animals into groups.\n",
    "example:\n",
    "- pigs are useful for there meat, skin and help improve the soil and biodiversity\n",
    "\n",
    "Create classes for all of his different types of animals \n",
    "You should have at least 5 animals on the farm ie. cows, pigs, dogs, goats \n",
    "\n",
    "VERY Poorly written example \n",
    "\n",
    "```python\n",
    "class Animals (self):\n",
    "    self.name = name\n",
    "    self.age = age\n",
    "\n",
    "class Pets(Animals):\n",
    "    self.friend = True\n",
    "    self.eat = False\n",
    "\n",
    "class Farm (Animals):\n",
    "    self.eat = True #will it be sold for food\n",
    "    self.leather = True #will it be sold for leather\n",
    "    self.helper = False #will it be used to say plow a field\n",
    "    self.soil = True #Will it be used to help the soil\n",
    "\n",
    "class Dog(Pets)\n",
    "    self.good_boy = True\n",
    "    self.type = \"type of dog\"\n",
    "listOfAnimals = [Dog()]\n",
    "```\n",
    "\n",
    "\n",
    "Your program should have an input and output allowing the user to add and remove animals. \n",
    "\n",
    "Love you !"
   ]
  },
  {
   "cell_type": "code",
   "execution_count": null,
   "id": "bee751a0",
   "metadata": {},
   "outputs": [
    {
     "ename": "AttributeError",
     "evalue": "'Goat' object has no attribute 'get_useflulness'",
     "output_type": "error",
     "traceback": [
      "\u001b[1;31m---------------------------------------------------------------------------\u001b[0m",
      "\u001b[1;31mAttributeError\u001b[0m                            Traceback (most recent call last)",
      "Cell \u001b[1;32mIn[1], line 14\u001b[0m\n\u001b[0;32m     11\u001b[0m         \u001b[38;5;28;01mreturn\u001b[39;00m \u001b[38;5;124mf\u001b[39m\u001b[38;5;124m\"\u001b[39m\u001b[38;5;132;01m{\u001b[39;00m\u001b[38;5;28mself\u001b[39m\u001b[38;5;241m.\u001b[39mname\u001b[38;5;132;01m}\u001b[39;00m\u001b[38;5;124m'\u001b[39m\u001b[38;5;124ms purpose: \u001b[39m\u001b[38;5;132;01m{\u001b[39;00mslef\u001b[38;5;241m.\u001b[39mpurpose\u001b[38;5;132;01m}\u001b[39;00m\u001b[38;5;124m\"\u001b[39m\n\u001b[0;32m     13\u001b[0m Goat\u001b[38;5;241m=\u001b[39mGoat(\u001b[38;5;124m\"\u001b[39m\u001b[38;5;124mGoat\u001b[39m\u001b[38;5;124m\"\u001b[39m)\n\u001b[1;32m---> 14\u001b[0m \u001b[38;5;28mprint\u001b[39m(\u001b[43mGoat\u001b[49m\u001b[38;5;241;43m.\u001b[39;49m\u001b[43mget_useflulness\u001b[49m())\n\u001b[0;32m     15\u001b[0m \u001b[38;5;28mprint\u001b[39m(Goat\u001b[38;5;241m.\u001b[39mget_purpose())\n",
      "\u001b[1;31mAttributeError\u001b[0m: 'Goat' object has no attribute 'get_useflulness'"
     ]
    }
   ],
   "source": [
    "class Goat:\n",
    "    def __init__(self, name):\n",
    "        self.name = name\n",
    "        self.usefulness = [\"Milk\", \"Meat\", \"Weed Control\"]\n",
    "        self.purpose = \"Provides milk, meat, and clear overgrown weeds\"\n",
    "\n",
    "    def get_usefulness(self):\n",
    "        return f\"{self.name} is useful for: {','.join(self.usefulness)}.\"\n",
    "    \n",
    "    def get_puropse(self):\n",
    "        return f\"{self.name}'s purpose: {self.purpose}\"\n",
    "    \n",
    "Goat=Goat(\"Goat\")\n",
    "print(Goat.get_usefulness())\n",
    "print(Goat.get_purpose())\n",
    "     \n"
   ]
  }
 ],
 "metadata": {
  "kernelspec": {
   "display_name": "Python 3",
   "language": "python",
   "name": "python3"
  },
  "language_info": {
   "codemirror_mode": {
    "name": "ipython",
    "version": 3
   },
   "file_extension": ".py",
   "mimetype": "text/x-python",
   "name": "python",
   "nbconvert_exporter": "python",
   "pygments_lexer": "ipython3",
   "version": "3.13.1"
  }
 },
 "nbformat": 4,
 "nbformat_minor": 5
}
