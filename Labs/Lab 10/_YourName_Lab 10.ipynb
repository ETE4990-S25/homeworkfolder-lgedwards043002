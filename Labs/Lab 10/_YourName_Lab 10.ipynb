{
 "cells": [
  {
   "cell_type": "markdown",
   "id": "5e447dac-da84-4169-8796-3917ed6d8103",
   "metadata": {},
   "source": [
    "# Lab 10\n",
    "Understanding Docker Networks\n",
    "\n",
    "What is Container Networking?\n",
    "Container networking also called Software Defined Networking (SDN) is what allows Docker networkgin subsystems to work. \n",
    "\n",
    "Some defalt Docker Netwrok drivers are:\n",
    "- Bridge\n",
    "    - a Network that is User-defined to allow for all containers connected on the same network to communicate with eachother. \n",
    "- Host\n",
    "    - a container is attahed to a Docker host. Any traffic routed to the container must be routed from the host system.\n",
    "- Overlay\n",
    "    - Created in a network spanning multiple docker hosts. Think each of your docker containers in the lab talking to eachother\n",
    "- Macvlan\n",
    "    - used in complicated networking to assing logical addresses based on MAC addresses to the virtual network interfaces making it apear as if the container has a physical network interaface connected to the network. Used in legacy applications.\n",
    "- None\n",
    "    -  the container only has a loopback interface so it can talk to itself.\n",
    "\n"
   ]
  },
  {
   "cell_type": "markdown",
   "id": "6c1971a0-cbb0-4889-bf10-59d6f08cb1ec",
   "metadata": {},
   "source": [
    "# Part 1 - Setup"
   ]
  },
  {
   "cell_type": "code",
   "execution_count": 2,
   "id": "6acffbb4-8220-4bf2-bed2-15113dad9621",
   "metadata": {},
   "outputs": [
    {
     "name": "stderr",
     "output_type": "stream",
     "text": [
      "docker: Error response from daemon: Conflict. The container name \"/nginx\" is already in use by container \"48de9566f04970864546f52fda2653a43e23ceb89a55764b5f9083ec4a83032d\". You have to remove (or rename) that container to be able to reuse that name.\n",
      "See 'docker run --help'.\n"
     ]
    }
   ],
   "source": [
    "!docker run -d --name nginx --network=none -p 81:81 nginx"
   ]
  },
  {
   "cell_type": "markdown",
   "id": "7c2e897d",
   "metadata": {},
   "source": [
    "## Note:\n",
    "**If you get this error:**\n",
    "\n",
    "*docker: permission denied while trying to connect to the Docker daemon ...*\n",
    "\n",
    "run this in wsl: \n",
    "``` bash\n",
    "sudo usermod -aG docker $USER\n",
    "newgrp docker\n",
    "sudo systemctl restart docker\n",
    "```\n",
    "Run it again....\n",
    "\n",
    "you should get a hash number YAY!\n",
    "\n",
    "`cbb2f01cd1b...`\n",
    "\n",
    "--------------------------------------\n",
    "If you are still getting the error\n",
    "\n",
    "\n",
    "run this:\n",
    "``` bash\n",
    "sudo chmod 666 /usr/docker.sock\n",
    "```\n",
    "--------------------------------------\n",
    "**If you get this error you did things right**\n",
    "\n",
    "docker: Error response from daemon: Conflict. The container name \"/nginx\n",
    "\n",
    "--------------------------------------\n"
   ]
  },
  {
   "cell_type": "markdown",
   "id": "2d98e870-0a17-4c39-bd13-01e33efb6968",
   "metadata": {},
   "source": [
    "## we now have an nginx container \n",
    "\n",
    "NGINX serves static content (like HTML, CSS, JavaScript, images) efficiently, improving website performance."
   ]
  },
  {
   "cell_type": "code",
   "execution_count": 1,
   "id": "bf176171-5f9f-4ac7-9286-425a76eb8305",
   "metadata": {},
   "outputs": [
    {
     "name": "stderr",
     "output_type": "stream",
     "text": [
      "  % Total    % Received % Xferd  Average Speed   Time    Time     Time  Current\n",
      "                                 Dload  Upload   Total   Spent    Left  Speed\n",
      "\n",
      "  0     0    0     0    0     0      0      0 --:--:-- --:--:-- --:--:--     0\n",
      "  0     0    0     0    0     0      0      0 --:--:-- --:--:-- --:--:--     0\n",
      "  0     0    0     0    0     0      0      0 --:--:--  0:00:01 --:--:--     0\n",
      "  0     0    0     0    0     0      0      0 --:--:--  0:00:02 --:--:--     0\n",
      "curl: (7) Failed to connect to localhost port 80 after 2225 ms: Could not connect to server\n"
     ]
    }
   ],
   "source": [
    "!curl localhost\n",
    "\n",
    "#the curl command should fail on our system "
   ]
  },
  {
   "cell_type": "markdown",
   "id": "5b36335c",
   "metadata": {},
   "source": [
    "Lets run it on the docker container "
   ]
  },
  {
   "cell_type": "code",
   "execution_count": 4,
   "id": "7d5e5d9d-447c-42fe-8001-32558b74c99f",
   "metadata": {},
   "outputs": [
    {
     "name": "stderr",
     "output_type": "stream",
     "text": [
      "Error response from daemon: No such container: nginx2\n"
     ]
    }
   ],
   "source": [
    "!docker exec -it nginx2 /bin/sh -c \"curl google.com\"\n",
    "\n"
   ]
  },
  {
   "cell_type": "markdown",
   "id": "9ce3c2a3-94d5-4a41-9ade-d7547f0bf620",
   "metadata": {},
   "source": [
    "* curl:(6) Could not resolve host: google.com\n",
    "\n",
    "As you can see the nginx container can not talk to google.com"
   ]
  },
  {
   "cell_type": "markdown",
   "id": "350ca9e3",
   "metadata": {},
   "source": [
    "# Part 2 - Understanding the network \n",
    "Docker comes with a subcommand for handling Docker networks."
   ]
  },
  {
   "cell_type": "code",
   "execution_count": 5,
   "id": "525d321d-03b1-40d5-900a-dea58424f8c7",
   "metadata": {},
   "outputs": [
    {
     "name": "stderr",
     "output_type": "stream",
     "text": [
      "\n",
      "Usage:  docker network COMMAND\n",
      "\n",
      "Manage networks\n",
      "\n",
      "Commands:\n",
      "  connect     Connect a container to a network\n",
      "  create      Create a network\n",
      "  disconnect  Disconnect a container from a network\n",
      "  inspect     Display detailed information on one or more networks\n",
      "  ls          List networks\n",
      "  prune       Remove all unused networks\n",
      "  rm          Remove one or more networks\n",
      "\n",
      "Run 'docker network COMMAND --help' for more information on a command.\n"
     ]
    }
   ],
   "source": [
    "!docker network"
   ]
  },
  {
   "cell_type": "markdown",
   "id": "520215d5",
   "metadata": {},
   "source": [
    "running `docker network ls` will show us all the names of the networks.\n"
   ]
  },
  {
   "cell_type": "code",
   "execution_count": null,
   "id": "0b43ead8-1577-43d7-b877-f6e3868e861f",
   "metadata": {},
   "outputs": [
    {
     "name": "stdout",
     "output_type": "stream",
     "text": [
      "NETWORK ID     NAME      DRIVER    SCOPE\n",
      "d2b08c95b890   bridge    bridge    local\n",
      "d873972cad3b   host      host      local\n",
      "f7b0737ec118   none      null      local\n"
     ]
    }
   ],
   "source": [
    "!docker network ls "
   ]
  },
  {
   "cell_type": "markdown",
   "id": "1e1283e9",
   "metadata": {},
   "source": [
    "In the above you can see that there is a none network. \n",
    "\n",
    "When we setup the docker nginx server we did not give it a network\n",
    "\n",
    "lets look for the nginx server"
   ]
  },
  {
   "cell_type": "code",
   "execution_count": 23,
   "id": "42b70960-d6ad-45b7-90ec-086ecfaa3fcf",
   "metadata": {},
   "outputs": [
    {
     "name": "stdout",
     "output_type": "stream",
     "text": [
      "[\n",
      "    {\n",
      "        \"Name\": \"none\",\n",
      "        \"Id\": \"f7b0737ec1188b800684be7edfaea4ba5d2871bc12f00933bf55712a110ee27d\",\n",
      "        \"Created\": \"2025-04-18T12:24:26.478234728-07:00\",\n",
      "        \"Scope\": \"local\",\n",
      "        \"Driver\": \"null\",\n",
      "        \"EnableIPv6\": false,\n",
      "        \"IPAM\": {\n",
      "            \"Driver\": \"default\",\n",
      "            \"Options\": null,\n",
      "            \"Config\": null\n",
      "        },\n",
      "        \"Internal\": false,\n",
      "        \"Attachable\": false,\n",
      "        \"Ingress\": false,\n",
      "        \"ConfigFrom\": {\n",
      "            \"Network\": \"\"\n",
      "        },\n",
      "        \"ConfigOnly\": false,\n",
      "        \"Containers\": {\n",
      "            \"cbb2f01cd1b1f17d502470e765159bc3400ca19f6862028bbc0ebb2c065f8183\": {\n",
      "                \"Name\": \"nginx2\",\n",
      "                \"EndpointID\": \"64ba2adbfd4b93f0be8a480f884b4417c5e69f2f221294786f127342b46cf6b8\",\n",
      "                \"MacAddress\": \"\",\n",
      "                \"IPv4Address\": \"\",\n",
      "                \"IPv6Address\": \"\"\n",
      "            }\n",
      "        },\n",
      "        \"Options\": {},\n",
      "        \"Labels\": {}\n",
      "    }\n",
      "]\n"
     ]
    }
   ],
   "source": [
    "!docker network inspect none "
   ]
  },
  {
   "cell_type": "markdown",
   "id": "c447bfd3",
   "metadata": {},
   "source": [
    "## OK Enough of that nonsense\n",
    "Lets install docker and use the API to do some work this is a python class after all"
   ]
  },
  {
   "cell_type": "code",
   "execution_count": 3,
   "id": "b59cdbbe",
   "metadata": {},
   "outputs": [
    {
     "name": "stdout",
     "output_type": "stream",
     "text": [
      "Requirement already satisfied: docker in c:\\users\\loren\\appdata\\local\\programs\\python\\python313\\lib\\site-packages (7.1.0)\n",
      "Requirement already satisfied: pywin32>=304 in c:\\users\\loren\\appdata\\local\\programs\\python\\python313\\lib\\site-packages (from docker) (308)\n",
      "Requirement already satisfied: requests>=2.26.0 in c:\\users\\loren\\appdata\\local\\programs\\python\\python313\\lib\\site-packages (from docker) (2.32.3)\n",
      "Requirement already satisfied: urllib3>=1.26.0 in c:\\users\\loren\\appdata\\local\\programs\\python\\python313\\lib\\site-packages (from docker) (2.3.0)\n",
      "Requirement already satisfied: charset-normalizer<4,>=2 in c:\\users\\loren\\appdata\\local\\programs\\python\\python313\\lib\\site-packages (from requests>=2.26.0->docker) (3.4.1)\n",
      "Requirement already satisfied: idna<4,>=2.5 in c:\\users\\loren\\appdata\\local\\programs\\python\\python313\\lib\\site-packages (from requests>=2.26.0->docker) (3.10)\n",
      "Requirement already satisfied: certifi>=2017.4.17 in c:\\users\\loren\\appdata\\local\\programs\\python\\python313\\lib\\site-packages (from requests>=2.26.0->docker) (2024.12.14)\n"
     ]
    },
    {
     "name": "stderr",
     "output_type": "stream",
     "text": [
      "\n",
      "[notice] A new release of pip is available: 25.0.1 -> 25.1\n",
      "[notice] To update, run: python.exe -m pip install --upgrade pip\n"
     ]
    }
   ],
   "source": [
    "!pip install docker"
   ]
  },
  {
   "cell_type": "code",
   "execution_count": 4,
   "id": "df37d71d",
   "metadata": {},
   "outputs": [
    {
     "name": "stdout",
     "output_type": "stream",
     "text": [
      "Docker version: 27.5.1\n"
     ]
    }
   ],
   "source": [
    "import docker\n",
    "\n",
    "client = docker.from_env()\n",
    "\n",
    "print(\"Docker version:\", client.version()['Version'])\n"
   ]
  },
  {
   "cell_type": "markdown",
   "id": "2f463d0d",
   "metadata": {},
   "source": [
    "Lets create a quick code to list the containers using the docker client"
   ]
  },
  {
   "cell_type": "code",
   "execution_count": 5,
   "id": "eb64257a",
   "metadata": {},
   "outputs": [
    {
     "name": "stdout",
     "output_type": "stream",
     "text": [
      "adminer - exited\n",
      "mysql - exited\n",
      "nginx - exited\n",
      "epic_edison - exited\n",
      "tender_bell - exited\n",
      "elated_borg - exited\n"
     ]
    }
   ],
   "source": [
    "def list_running_containers():\n",
    "    containers = client.containers.list(all=True)# list all containers\n",
    "    #containers = client.containers.list() #list only running containers\n",
    "    for container in containers:\n",
    "        print(f\"{container.name} - {container.status}\")\n",
    "\n",
    "list_running_containers()"
   ]
  },
  {
   "cell_type": "markdown",
   "id": "18c4ee6c",
   "metadata": {},
   "source": [
    "Here you can see the running container and no surprise it is the nginx we started before\n"
   ]
  },
  {
   "cell_type": "code",
   "execution_count": 9,
   "id": "32e42e0a",
   "metadata": {},
   "outputs": [
    {
     "name": "stdout",
     "output_type": "stream",
     "text": [
      "nginx in network 'none' has IP: \n"
     ]
    }
   ],
   "source": [
    "#lest identify the network of the nginx container\n",
    "def show_container_ip(container_name):\n",
    "    container = client.containers.get(container_name)\n",
    "    networks = container.attrs['NetworkSettings']['Networks']\n",
    "    \n",
    "    for net_name, net_data in networks.items():\n",
    "        print(f\"{container_name} in network '{net_name}' has IP: {net_data['IPAddress']}\")\n",
    "\n",
    "\n",
    "show_container_ip(\"nginx\")\n"
   ]
  },
  {
   "cell_type": "markdown",
   "id": "1748a68f",
   "metadata": {},
   "source": [
    "again no surprise there is no IP address as it does not have a network. "
   ]
  },
  {
   "cell_type": "markdown",
   "id": "27f669c9",
   "metadata": {},
   "source": [
    "### ok I lied back to creating more stuff though the CLI"
   ]
  },
  {
   "cell_type": "code",
   "execution_count": 10,
   "id": "8689fe8e-6afa-48a1-9c86-e05cf5f0ad51",
   "metadata": {},
   "outputs": [
    {
     "name": "stdout",
     "output_type": "stream",
     "text": [
      "5e66c302f1d2f7e672327ffe8b914418b801b3e308ab4141e2aa0a44f8b61de3\n"
     ]
    },
    {
     "name": "stderr",
     "output_type": "stream",
     "text": [
      "Unable to find image 'mysql:8' locally\n",
      "8: Pulling from library/mysql\n",
      "cea172a6e83b: Pulling fs layer\n",
      "6c228f7bea3b: Pulling fs layer\n",
      "290ec4c227a4: Pulling fs layer\n",
      "cb416885cc1f: Pulling fs layer\n",
      "10eaa68c5921: Pulling fs layer\n",
      "07e8f079852f: Pulling fs layer\n",
      "d1e5287da18a: Pulling fs layer\n",
      "aad4571eacc0: Pulling fs layer\n",
      "182039f5bee3: Pulling fs layer\n",
      "b3dd4e5cd318: Pulling fs layer\n",
      "07e8f079852f: Waiting\n",
      "d1e5287da18a: Waiting\n",
      "aad4571eacc0: Waiting\n",
      "b3dd4e5cd318: Waiting\n",
      "182039f5bee3: Waiting\n",
      "cb416885cc1f: Waiting\n",
      "10eaa68c5921: Waiting\n",
      "6c228f7bea3b: Verifying Checksum\n",
      "6c228f7bea3b: Download complete\n",
      "290ec4c227a4: Verifying Checksum\n",
      "290ec4c227a4: Download complete\n",
      "10eaa68c5921: Verifying Checksum\n",
      "10eaa68c5921: Download complete\n",
      "cb416885cc1f: Verifying Checksum\n",
      "cb416885cc1f: Download complete\n",
      "07e8f079852f: Verifying Checksum\n",
      "07e8f079852f: Download complete\n",
      "aad4571eacc0: Download complete\n",
      "182039f5bee3: Verifying Checksum\n",
      "182039f5bee3: Download complete\n",
      "b3dd4e5cd318: Verifying Checksum\n",
      "b3dd4e5cd318: Download complete\n",
      "cea172a6e83b: Verifying Checksum\n",
      "cea172a6e83b: Download complete\n",
      "d1e5287da18a: Verifying Checksum\n",
      "d1e5287da18a: Download complete\n",
      "cea172a6e83b: Pull complete\n",
      "6c228f7bea3b: Pull complete\n",
      "290ec4c227a4: Pull complete\n",
      "cb416885cc1f: Pull complete\n",
      "10eaa68c5921: Pull complete\n",
      "07e8f079852f: Pull complete\n",
      "d1e5287da18a: Pull complete\n",
      "aad4571eacc0: Pull complete\n",
      "182039f5bee3: Pull complete\n",
      "b3dd4e5cd318: Pull complete\n",
      "Digest: sha256:3a89257a3a979e46e3650628bea227a6bc318a2bdc95f954489ec89573a4c6a2\n",
      "Status: Downloaded newer image for mysql:8\n"
     ]
    }
   ],
   "source": [
    "#setup another container for mysql\n",
    "!docker run -d --name mysql -p 3306:3306 -e MYSQL_ROOT_PASSWORD=1 mysql:8\n",
    "#Note the -d means detached mode so no container is using created just the MySQL database "
   ]
  },
  {
   "cell_type": "markdown",
   "id": "b312951a-708d-4e69-80b7-9d37b5bd10fc",
   "metadata": {},
   "source": [
    "## The following needs to be run in the terminal"
   ]
  },
  {
   "cell_type": "code",
   "execution_count": 11,
   "id": "c1b77a0a-53a2-44a7-af22-8a4113d80666",
   "metadata": {},
   "outputs": [
    {
     "name": "stdout",
     "output_type": "stream",
     "text": [
      "3fe4a0b26d905ea26dbcdc30eb475f93feecdaa5332ea97315d7e2a157379ec7\n"
     ]
    },
    {
     "name": "stderr",
     "output_type": "stream",
     "text": [
      "Unable to find image 'adminer:latest' locally\n",
      "latest: Pulling from library/adminer\n",
      "f18232174bc9: Pulling fs layer\n",
      "b1220d176a8d: Pulling fs layer\n",
      "115c7a04f6c0: Pulling fs layer\n",
      "0d55cff53123: Pulling fs layer\n",
      "88d591373a19: Pulling fs layer\n",
      "dc6d32971fca: Pulling fs layer\n",
      "ffeef6b41a56: Pulling fs layer\n",
      "6d95abe48138: Pulling fs layer\n",
      "a80d3af78a9d: Pulling fs layer\n",
      "f3fe38446507: Pulling fs layer\n",
      "c6d0aade0806: Pulling fs layer\n",
      "4f4fb700ef54: Pulling fs layer\n",
      "e434f3dae19e: Pulling fs layer\n",
      "8b847f2809a2: Pulling fs layer\n",
      "93b26376816c: Pulling fs layer\n",
      "52e9abf80869: Pulling fs layer\n",
      "88d591373a19: Waiting\n",
      "6d95abe48138: Waiting\n",
      "a80d3af78a9d: Waiting\n",
      "f3fe38446507: Waiting\n",
      "dc6d32971fca: Waiting\n",
      "c6d0aade0806: Waiting\n",
      "ffeef6b41a56: Waiting\n",
      "e434f3dae19e: Waiting\n",
      "4f4fb700ef54: Waiting\n",
      "8b847f2809a2: Waiting\n",
      "93b26376816c: Waiting\n",
      "52e9abf80869: Waiting\n",
      "0d55cff53123: Waiting\n",
      "115c7a04f6c0: Verifying Checksum\n",
      "115c7a04f6c0: Download complete\n",
      "f18232174bc9: Verifying Checksum\n",
      "f18232174bc9: Download complete\n",
      "0d55cff53123: Download complete\n",
      "b1220d176a8d: Verifying Checksum\n",
      "b1220d176a8d: Download complete\n",
      "f18232174bc9: Pull complete\n",
      "b1220d176a8d: Pull complete\n",
      "115c7a04f6c0: Pull complete\n",
      "0d55cff53123: Pull complete\n",
      "dc6d32971fca: Verifying Checksum\n",
      "dc6d32971fca: Download complete\n",
      "88d591373a19: Verifying Checksum\n",
      "88d591373a19: Download complete\n",
      "88d591373a19: Pull complete\n",
      "6d95abe48138: Verifying Checksum\n",
      "6d95abe48138: Download complete\n",
      "dc6d32971fca: Pull complete\n",
      "a80d3af78a9d: Verifying Checksum\n",
      "a80d3af78a9d: Download complete\n",
      "f3fe38446507: Download complete\n",
      "c6d0aade0806: Verifying Checksum\n",
      "c6d0aade0806: Download complete\n",
      "ffeef6b41a56: Verifying Checksum\n",
      "ffeef6b41a56: Download complete\n",
      "4f4fb700ef54: Verifying Checksum\n",
      "4f4fb700ef54: Download complete\n",
      "8b847f2809a2: Verifying Checksum\n",
      "8b847f2809a2: Download complete\n",
      "e434f3dae19e: Verifying Checksum\n",
      "e434f3dae19e: Download complete\n",
      "93b26376816c: Verifying Checksum\n",
      "93b26376816c: Download complete\n",
      "52e9abf80869: Verifying Checksum\n",
      "52e9abf80869: Download complete\n",
      "ffeef6b41a56: Pull complete\n",
      "6d95abe48138: Pull complete\n",
      "a80d3af78a9d: Pull complete\n",
      "f3fe38446507: Pull complete\n",
      "c6d0aade0806: Pull complete\n",
      "4f4fb700ef54: Pull complete\n",
      "e434f3dae19e: Pull complete\n",
      "8b847f2809a2: Pull complete\n",
      "93b26376816c: Pull complete\n",
      "52e9abf80869: Pull complete\n",
      "Digest: sha256:b1c1395ff805e5ab62dca9ca37dc1ab678436551a706d68e7a77b15b9f7aa266\n",
      "Status: Downloaded newer image for adminer:latest\n"
     ]
    }
   ],
   "source": [
    "!docker run -d --name adminer -p 8080:8080 adminer\n"
   ]
  },
  {
   "cell_type": "markdown",
   "id": "814b761c",
   "metadata": {},
   "source": [
    "Run the following each in there own terminal\n",
    "\n",
    "``` bash\n",
    "docker logs -f mysql\n",
    "docker logs -f adminer\n",
    "```"
   ]
  },
  {
   "cell_type": "code",
   "execution_count": 21,
   "id": "d3295ddc-40c8-4dc3-bac5-f449cedd6a1c",
   "metadata": {},
   "outputs": [
    {
     "name": "stdout",
     "output_type": "stream",
     "text": [
      "213:            \"IPAddress\": \"172.17.0.2\",\n",
      "227:                    \"IPAddress\": \"172.17.0.2\",\n",
      "------------------------------\n",
      "mysql in network 'bridge' has IP: 172.17.0.2\n"
     ]
    },
    {
     "name": "stderr",
     "output_type": "stream",
     "text": [
      "FINDSTR: /1 ignored\n"
     ]
    }
   ],
   "source": [
    "!docker inspect mysql | findstr -n1 \"IPAddress\\\":\"\n",
    "# or\n",
    "print(\"-\"*30)\n",
    "show_container_ip(\"mysql\")\n"
   ]
  },
  {
   "cell_type": "code",
   "execution_count": 22,
   "id": "d245598f-5982-448f-826b-dcf2a02ea142",
   "metadata": {},
   "outputs": [
    {
     "name": "stdout",
     "output_type": "stream",
     "text": [
      "210:            \"IPAddress\": \"\",\n",
      "224:                    \"IPAddress\": \"\",\n",
      "------------------------------\n",
      "adminer in network 'bridge' has IP: \n"
     ]
    },
    {
     "name": "stderr",
     "output_type": "stream",
     "text": [
      "FINDSTR: /1 ignored\n"
     ]
    }
   ],
   "source": [
    "!docker inspect adminer| findstr  -n1 \"IPAddress\\\":\"\n",
    "# or\n",
    "print(\"-\"*30)\n",
    "show_container_ip(\"adminer\")\n"
   ]
  },
  {
   "cell_type": "markdown",
   "id": "0e8d4efa",
   "metadata": {},
   "source": [
    "### Lets do a bit of cleanup \n",
    "\n",
    "``` bash\n",
    "#lets remove our old container\n",
    "!docker stop adminer\n",
    "!docker rm adminer\n",
    "!docker stop mysql\n",
    "!docker rm mysql\n",
    "!docker stop nginx \n",
    "!docker rm nginx\n",
    "```"
   ]
  },
  {
   "cell_type": "code",
   "execution_count": null,
   "id": "8b58f533",
   "metadata": {},
   "outputs": [],
   "source": [
    "def clean_containers():\n",
    "    containers = client.containers.list(all=True)\n",
    "    if not containers:\n",
    "        print(\"No containers to clean.\")\n",
    "        return\n",
    "    \n",
    "    for container in containers:\n",
    "        container.stop()\n",
    "        print(f\"Waiting for {container.name} to stop...\")\n",
    "        while container.status != 'exited':\n",
    "            pass\n",
    "        \n",
    "        container.reload()\n",
    "        if container.status == 'exited':\n",
    "            print(f\"Removing {container.name}\")\n",
    "            container.remove()\n",
    "\n",
    "list_running_containers()\n",
    "\n",
    "clean_containers()\n"
   ]
  },
  {
   "cell_type": "markdown",
   "id": "083fe448-2d62-42cc-a4bc-f9b96343bd0f",
   "metadata": {},
   "source": [
    "## Setting up the network"
   ]
  },
  {
   "cell_type": "code",
   "execution_count": 14,
   "id": "9c67866b-8c5a-4d3f-8616-23981e020e7e",
   "metadata": {},
   "outputs": [
    {
     "name": "stdout",
     "output_type": "stream",
     "text": [
      "02fdcf2c6a7c21401fee3072bc71f5a5c93fd81bf6693fb108e445f911b52e46\n"
     ]
    }
   ],
   "source": [
    "# Create a network called yourNetwork using the following command\n",
    "\n",
    "!docker network create theHive"
   ]
  },
  {
   "cell_type": "code",
   "execution_count": 15,
   "id": "98f9b37a-eeca-4c94-b793-67be3c732783",
   "metadata": {},
   "outputs": [
    {
     "name": "stdout",
     "output_type": "stream",
     "text": [
      "[\n",
      "    {\n",
      "        \"Name\": \"theHive\",\n",
      "        \"Id\": \"02fdcf2c6a7c21401fee3072bc71f5a5c93fd81bf6693fb108e445f911b52e46\",\n",
      "        \"Created\": \"2025-04-28T02:01:26.035500851Z\",\n",
      "        \"Scope\": \"local\",\n",
      "        \"Driver\": \"bridge\",\n",
      "        \"EnableIPv6\": false,\n",
      "        \"IPAM\": {\n",
      "            \"Driver\": \"default\",\n",
      "            \"Options\": {},\n",
      "            \"Config\": [\n",
      "                {\n",
      "                    \"Subnet\": \"172.18.0.0/16\",\n",
      "                    \"Gateway\": \"172.18.0.1\"\n",
      "                }\n",
      "            ]\n",
      "        },\n",
      "        \"Internal\": false,\n",
      "        \"Attachable\": false,\n",
      "        \"Ingress\": false,\n",
      "        \"ConfigFrom\": {\n",
      "            \"Network\": \"\"\n",
      "        },\n",
      "        \"ConfigOnly\": false,\n",
      "        \"Containers\": {},\n",
      "        \"Options\": {},\n",
      "        \"Labels\": {}\n",
      "    }\n",
      "]\n"
     ]
    }
   ],
   "source": [
    "!docker network inspect theHive"
   ]
  },
  {
   "cell_type": "code",
   "execution_count": 36,
   "id": "c60b5acb-99e9-42dd-83ff-5f808a1c7223",
   "metadata": {},
   "outputs": [
    {
     "name": "stderr",
     "output_type": "stream",
     "text": [
      "docker: Error response from daemon: Conflict. The container name \"/mysql\" is already in use by container \"5e66c302f1d2f7e672327ffe8b914418b801b3e308ab4141e2aa0a44f8b61de3\". You have to remove (or rename) that container to be able to reuse that name.\n",
      "See 'docker run --help'.\n"
     ]
    }
   ],
   "source": [
    "!docker run -d --network theHive --name mysql -p 3306:3306 -e MYSQL_ROOT_PASSWORD=1 mysql:8\n"
   ]
  },
  {
   "cell_type": "code",
   "execution_count": 17,
   "id": "071b6c18-6c25-45ee-bddb-2745386107a7",
   "metadata": {},
   "outputs": [
    {
     "name": "stderr",
     "output_type": "stream",
     "text": [
      "docker: Error response from daemon: Conflict. The container name \"/adminer\" is already in use by container \"3fe4a0b26d905ea26dbcdc30eb475f93feecdaa5332ea97315d7e2a157379ec7\". You have to remove (or rename) that container to be able to reuse that name.\n",
      "See 'docker run --help'.\n"
     ]
    }
   ],
   "source": [
    "!docker run -d --network theHive --name adminer -p 8080:8080 adminer"
   ]
  },
  {
   "cell_type": "code",
   "execution_count": 33,
   "id": "a5fc6246-b507-4b1f-8b58-1e6f9994177c",
   "metadata": {},
   "outputs": [],
   "source": [
    "#Now lets connect the adminer\n",
    "!docker network connect yourNetwork adminer"
   ]
  },
  {
   "cell_type": "code",
   "execution_count": 34,
   "id": "7cf0eb53-203c-4492-b5d6-2a79a70b1880",
   "metadata": {},
   "outputs": [
    {
     "name": "stdout",
     "output_type": "stream",
     "text": [
      "            \"Networks\": {\n"
     ]
    },
    {
     "name": "stderr",
     "output_type": "stream",
     "text": [
      "FINDSTR: /C ignored\n",
      "FINDSTR: /2 ignored\n",
      "FINDSTR: /A ignored"
     ]
    },
    {
     "name": "stdout",
     "output_type": "stream",
     "text": [
      "------------------------------\n",
      "mysql in network 'bridge' has IP: 172.17.0.2\n"
     ]
    },
    {
     "name": "stderr",
     "output_type": "stream",
     "text": [
      "\n",
      "FINDSTR: /9 ignored\n"
     ]
    }
   ],
   "source": [
    "!docker inspect mysql |findstr -C2 \" \\\"Networks\\\"\"\n",
    "!docker inspect mysql |findstr -A9 \" \\\"Networks\\\"\"| findstr \" \\\"IPAddress\\\"\"\n",
    "#or\n",
    "print(\"-\"*30)\n",
    "show_container_ip(\"mysql\")"
   ]
  },
  {
   "cell_type": "code",
   "execution_count": 35,
   "id": "b992ac2d-0dd7-4111-b7be-b174de9c6bec",
   "metadata": {},
   "outputs": [
    {
     "name": "stdout",
     "output_type": "stream",
     "text": [
      "            \"Networks\": {\n"
     ]
    },
    {
     "name": "stderr",
     "output_type": "stream",
     "text": [
      "FINDSTR: /A ignored\n",
      "FINDSTR: /2 ignored\n",
      "FINDSTR: /A ignored\n",
      "FINDSTR: /9 ignored\n"
     ]
    },
    {
     "name": "stdout",
     "output_type": "stream",
     "text": [
      "Access denied. Option -c requires administrative privileges.\n",
      "------------------------------\n",
      "adminer in network 'bridge' has IP: \n",
      "adminer in network 'yourNetwork' has IP: \n"
     ]
    }
   ],
   "source": [
    "!docker inspect adminer| findstr -A2 \" \\\"Networks\\\"\"\n",
    "!docker inspect adminer| findstr -A9 \" \\\"Networks\\\"\"| findstr \" \\\"IPAddress\\\"\"\n",
    "!ping -c 1 172.18.0.3\n",
    "#or\n",
    "print(\"-\"*30)\n",
    "show_container_ip(\"adminer\")"
   ]
  },
  {
   "cell_type": "markdown",
   "id": "b6371541-7400-4de9-8274-4784ce7ca815",
   "metadata": {},
   "source": [
    "# LAB \n",
    "As a reminder you should be submitting to me 2 files. \n",
    "- _YourName_Lab 09.ipynb\n",
    "    - this is your lab report\n",
    "- _YourName__\\<name of your script\\>.py\n",
    "\n",
    "## Part 1 - warm up\n",
    "\n",
    "Now that you have 2 containers up and running and know there connected. Create a python script that will check to see if the IP addresses of the containers are up and running. \n",
    "\n"
   ]
  },
  {
   "cell_type": "code",
   "execution_count": 11,
   "id": "c7dd0f35",
   "metadata": {},
   "outputs": [
    {
     "name": "stdout",
     "output_type": "stream",
     "text": [
      "172.17.0.2 is DOOOOOWWWNNNN\n",
      "172.17.0.3 is DOOOOOWWWNNNN\n"
     ]
    }
   ],
   "source": [
    "import os\n",
    "\n",
    "ips = [\"172.17.0.2\", \"172.17.0.3\"]\n",
    "\n",
    "for ip in ips:\n",
    "    response = os.system(f\"ping -n 1 {ip} >nul\")\n",
    "    if response == 0:\n",
    "        print(f\"{ip} is ONNNNNNNN\")\n",
    "    else:\n",
    "        print(f\"{ip} is DOOOOOWWWNNNN\")"
   ]
  },
  {
   "cell_type": "markdown",
   "id": "8118578f",
   "metadata": {},
   "source": [
    "\n",
    "## Part 2\n",
    "Continue with the above code and create a script that will:\n",
    "- Relaunch a container if it is ever shutdown. \n",
    "- Perform a maintenance restart after 1 day has passed. \n",
    "- Monitor the log files and outputs errors and warnings.\n",
    "\n",
    "your python file does not need to be in a docker container\n",
    "\n",
    "\n",
    "https://docs.docker.com/engine/api/sdk/examples/\n",
    "\n"
   ]
  },
  {
   "cell_type": "code",
   "execution_count": 12,
   "id": "da809287-9d9a-4c74-8608-98eeef8a4924",
   "metadata": {},
   "outputs": [
    {
     "name": "stdout",
     "output_type": "stream",
     "text": [
      "Log issues found in mysql:\n",
      "'/var/lib/mysql/mysql.sock' -> '/var/run/mysqld/mysqld.sock'\n",
      "2025-04-28t02:47:02.416009z 0 [system] [my-015015] [server] mysql server - start.\n",
      "2025-04-28t02:47:02.658697z 0 [system] [my-010116] [server] /usr/sbin/mysqld (mysqld 8.4.5) starting as process 1\n",
      "2025-04-28t02:47:02.668997z 1 [system] [my-013576] [innodb] innodb initialization has started.\n",
      "2025-04-28t02:47:02.949021z 1 [system] [my-013577] [innodb] innodb initialization has ended.\n",
      "2025-04-28t02:47:03.211326z 0 [warning] [my-010068] [server] ca certificate ca.pem is self signed.\n",
      "2025-04-28t02:47:03.211373z 0 [system] [my-013602] [server] channel mysql_main configured to support tls. encrypted connections are now supported for this channel.\n",
      "2025-04-28t02:47:03.216274z 0 [warning] [my-011810] [server] insecure configuration for --pid-file: location '/var/run/mysqld' in the path is accessible to all os users. consider choosing a different directory.\n",
      "2025-04-28t02:47:03.259733z 0 [system] [my-011323] [server] x plugin ready for connections. bind-address: '::' port: 33060, socket: /var/run/mysqld/mysqlx.sock\n",
      "2025-04-28t02:47:03.260173z 0 [system] [my-010931] [server] /usr/sbin/mysqld: ready for connections. version: '8.4.5'  socket: '/var/run/mysqld/mysqld.sock'  port: 3306  mysql community server - gpl.\n",
      "\n",
      "Log issues found in mysql:\n",
      "'/var/lib/mysql/mysql.sock' -> '/var/run/mysqld/mysqld.sock'\n",
      "2025-04-28t02:47:02.416009z 0 [system] [my-015015] [server] mysql server - start.\n",
      "2025-04-28t02:47:02.658697z 0 [system] [my-010116] [server] /usr/sbin/mysqld (mysqld 8.4.5) starting as process 1\n",
      "2025-04-28t02:47:02.668997z 1 [system] [my-013576] [innodb] innodb initialization has started.\n",
      "2025-04-28t02:47:02.949021z 1 [system] [my-013577] [innodb] innodb initialization has ended.\n",
      "2025-04-28t02:47:03.211326z 0 [warning] [my-010068] [server] ca certificate ca.pem is self signed.\n",
      "2025-04-28t02:47:03.211373z 0 [system] [my-013602] [server] channel mysql_main configured to support tls. encrypted connections are now supported for this channel.\n",
      "2025-04-28t02:47:03.216274z 0 [warning] [my-011810] [server] insecure configuration for --pid-file: location '/var/run/mysqld' in the path is accessible to all os users. consider choosing a different directory.\n",
      "2025-04-28t02:47:03.259733z 0 [system] [my-011323] [server] x plugin ready for connections. bind-address: '::' port: 33060, socket: /var/run/mysqld/mysqlx.sock\n",
      "2025-04-28t02:47:03.260173z 0 [system] [my-010931] [server] /usr/sbin/mysqld: ready for connections. version: '8.4.5'  socket: '/var/run/mysqld/mysqld.sock'  port: 3306  mysql community server - gpl.\n",
      "\n",
      "Log issues found in mysql:\n",
      "'/var/lib/mysql/mysql.sock' -> '/var/run/mysqld/mysqld.sock'\n",
      "2025-04-28t02:47:02.416009z 0 [system] [my-015015] [server] mysql server - start.\n",
      "2025-04-28t02:47:02.658697z 0 [system] [my-010116] [server] /usr/sbin/mysqld (mysqld 8.4.5) starting as process 1\n",
      "2025-04-28t02:47:02.668997z 1 [system] [my-013576] [innodb] innodb initialization has started.\n",
      "2025-04-28t02:47:02.949021z 1 [system] [my-013577] [innodb] innodb initialization has ended.\n",
      "2025-04-28t02:47:03.211326z 0 [warning] [my-010068] [server] ca certificate ca.pem is self signed.\n",
      "2025-04-28t02:47:03.211373z 0 [system] [my-013602] [server] channel mysql_main configured to support tls. encrypted connections are now supported for this channel.\n",
      "2025-04-28t02:47:03.216274z 0 [warning] [my-011810] [server] insecure configuration for --pid-file: location '/var/run/mysqld' in the path is accessible to all os users. consider choosing a different directory.\n",
      "2025-04-28t02:47:03.259733z 0 [system] [my-011323] [server] x plugin ready for connections. bind-address: '::' port: 33060, socket: /var/run/mysqld/mysqlx.sock\n",
      "2025-04-28t02:47:03.260173z 0 [system] [my-010931] [server] /usr/sbin/mysqld: ready for connections. version: '8.4.5'  socket: '/var/run/mysqld/mysqld.sock'  port: 3306  mysql community server - gpl.\n",
      "\n",
      "Log issues found in mysql:\n",
      "'/var/lib/mysql/mysql.sock' -> '/var/run/mysqld/mysqld.sock'\n",
      "2025-04-28t02:47:02.416009z 0 [system] [my-015015] [server] mysql server - start.\n",
      "2025-04-28t02:47:02.658697z 0 [system] [my-010116] [server] /usr/sbin/mysqld (mysqld 8.4.5) starting as process 1\n",
      "2025-04-28t02:47:02.668997z 1 [system] [my-013576] [innodb] innodb initialization has started.\n",
      "2025-04-28t02:47:02.949021z 1 [system] [my-013577] [innodb] innodb initialization has ended.\n",
      "2025-04-28t02:47:03.211326z 0 [warning] [my-010068] [server] ca certificate ca.pem is self signed.\n",
      "2025-04-28t02:47:03.211373z 0 [system] [my-013602] [server] channel mysql_main configured to support tls. encrypted connections are now supported for this channel.\n",
      "2025-04-28t02:47:03.216274z 0 [warning] [my-011810] [server] insecure configuration for --pid-file: location '/var/run/mysqld' in the path is accessible to all os users. consider choosing a different directory.\n",
      "2025-04-28t02:47:03.259733z 0 [system] [my-011323] [server] x plugin ready for connections. bind-address: '::' port: 33060, socket: /var/run/mysqld/mysqlx.sock\n",
      "2025-04-28t02:47:03.260173z 0 [system] [my-010931] [server] /usr/sbin/mysqld: ready for connections. version: '8.4.5'  socket: '/var/run/mysqld/mysqld.sock'  port: 3306  mysql community server - gpl.\n",
      "\n",
      "Log issues found in mysql:\n",
      "'/var/lib/mysql/mysql.sock' -> '/var/run/mysqld/mysqld.sock'\n",
      "2025-04-28t02:47:02.416009z 0 [system] [my-015015] [server] mysql server - start.\n",
      "2025-04-28t02:47:02.658697z 0 [system] [my-010116] [server] /usr/sbin/mysqld (mysqld 8.4.5) starting as process 1\n",
      "2025-04-28t02:47:02.668997z 1 [system] [my-013576] [innodb] innodb initialization has started.\n",
      "2025-04-28t02:47:02.949021z 1 [system] [my-013577] [innodb] innodb initialization has ended.\n",
      "2025-04-28t02:47:03.211326z 0 [warning] [my-010068] [server] ca certificate ca.pem is self signed.\n",
      "2025-04-28t02:47:03.211373z 0 [system] [my-013602] [server] channel mysql_main configured to support tls. encrypted connections are now supported for this channel.\n",
      "2025-04-28t02:47:03.216274z 0 [warning] [my-011810] [server] insecure configuration for --pid-file: location '/var/run/mysqld' in the path is accessible to all os users. consider choosing a different directory.\n",
      "2025-04-28t02:47:03.259733z 0 [system] [my-011323] [server] x plugin ready for connections. bind-address: '::' port: 33060, socket: /var/run/mysqld/mysqlx.sock\n",
      "2025-04-28t02:47:03.260173z 0 [system] [my-010931] [server] /usr/sbin/mysqld: ready for connections. version: '8.4.5'  socket: '/var/run/mysqld/mysqld.sock'  port: 3306  mysql community server - gpl.\n",
      "\n",
      "Log issues found in mysql:\n",
      "'/var/lib/mysql/mysql.sock' -> '/var/run/mysqld/mysqld.sock'\n",
      "2025-04-28t02:47:02.416009z 0 [system] [my-015015] [server] mysql server - start.\n",
      "2025-04-28t02:47:02.658697z 0 [system] [my-010116] [server] /usr/sbin/mysqld (mysqld 8.4.5) starting as process 1\n",
      "2025-04-28t02:47:02.668997z 1 [system] [my-013576] [innodb] innodb initialization has started.\n",
      "2025-04-28t02:47:02.949021z 1 [system] [my-013577] [innodb] innodb initialization has ended.\n",
      "2025-04-28t02:47:03.211326z 0 [warning] [my-010068] [server] ca certificate ca.pem is self signed.\n",
      "2025-04-28t02:47:03.211373z 0 [system] [my-013602] [server] channel mysql_main configured to support tls. encrypted connections are now supported for this channel.\n",
      "2025-04-28t02:47:03.216274z 0 [warning] [my-011810] [server] insecure configuration for --pid-file: location '/var/run/mysqld' in the path is accessible to all os users. consider choosing a different directory.\n",
      "2025-04-28t02:47:03.259733z 0 [system] [my-011323] [server] x plugin ready for connections. bind-address: '::' port: 33060, socket: /var/run/mysqld/mysqlx.sock\n",
      "2025-04-28t02:47:03.260173z 0 [system] [my-010931] [server] /usr/sbin/mysqld: ready for connections. version: '8.4.5'  socket: '/var/run/mysqld/mysqld.sock'  port: 3306  mysql community server - gpl.\n",
      "\n",
      "Log issues found in mysql:\n",
      "'/var/lib/mysql/mysql.sock' -> '/var/run/mysqld/mysqld.sock'\n",
      "2025-04-28t02:47:02.416009z 0 [system] [my-015015] [server] mysql server - start.\n",
      "2025-04-28t02:47:02.658697z 0 [system] [my-010116] [server] /usr/sbin/mysqld (mysqld 8.4.5) starting as process 1\n",
      "2025-04-28t02:47:02.668997z 1 [system] [my-013576] [innodb] innodb initialization has started.\n",
      "2025-04-28t02:47:02.949021z 1 [system] [my-013577] [innodb] innodb initialization has ended.\n",
      "2025-04-28t02:47:03.211326z 0 [warning] [my-010068] [server] ca certificate ca.pem is self signed.\n",
      "2025-04-28t02:47:03.211373z 0 [system] [my-013602] [server] channel mysql_main configured to support tls. encrypted connections are now supported for this channel.\n",
      "2025-04-28t02:47:03.216274z 0 [warning] [my-011810] [server] insecure configuration for --pid-file: location '/var/run/mysqld' in the path is accessible to all os users. consider choosing a different directory.\n",
      "2025-04-28t02:47:03.259733z 0 [system] [my-011323] [server] x plugin ready for connections. bind-address: '::' port: 33060, socket: /var/run/mysqld/mysqlx.sock\n",
      "2025-04-28t02:47:03.260173z 0 [system] [my-010931] [server] /usr/sbin/mysqld: ready for connections. version: '8.4.5'  socket: '/var/run/mysqld/mysqld.sock'  port: 3306  mysql community server - gpl.\n",
      "\n",
      "Log issues found in mysql:\n",
      "'/var/lib/mysql/mysql.sock' -> '/var/run/mysqld/mysqld.sock'\n",
      "2025-04-28t02:47:02.416009z 0 [system] [my-015015] [server] mysql server - start.\n",
      "2025-04-28t02:47:02.658697z 0 [system] [my-010116] [server] /usr/sbin/mysqld (mysqld 8.4.5) starting as process 1\n",
      "2025-04-28t02:47:02.668997z 1 [system] [my-013576] [innodb] innodb initialization has started.\n",
      "2025-04-28t02:47:02.949021z 1 [system] [my-013577] [innodb] innodb initialization has ended.\n",
      "2025-04-28t02:47:03.211326z 0 [warning] [my-010068] [server] ca certificate ca.pem is self signed.\n",
      "2025-04-28t02:47:03.211373z 0 [system] [my-013602] [server] channel mysql_main configured to support tls. encrypted connections are now supported for this channel.\n",
      "2025-04-28t02:47:03.216274z 0 [warning] [my-011810] [server] insecure configuration for --pid-file: location '/var/run/mysqld' in the path is accessible to all os users. consider choosing a different directory.\n",
      "2025-04-28t02:47:03.259733z 0 [system] [my-011323] [server] x plugin ready for connections. bind-address: '::' port: 33060, socket: /var/run/mysqld/mysqlx.sock\n",
      "2025-04-28t02:47:03.260173z 0 [system] [my-010931] [server] /usr/sbin/mysqld: ready for connections. version: '8.4.5'  socket: '/var/run/mysqld/mysqld.sock'  port: 3306  mysql community server - gpl.\n",
      "\n"
     ]
    },
    {
     "ename": "KeyboardInterrupt",
     "evalue": "",
     "output_type": "error",
     "traceback": [
      "\u001b[1;31m---------------------------------------------------------------------------\u001b[0m",
      "\u001b[1;31mKeyboardInterrupt\u001b[0m                         Traceback (most recent call last)",
      "Cell \u001b[1;32mIn[12], line 41\u001b[0m\n\u001b[0;32m     38\u001b[0m     \u001b[38;5;28;01mexcept\u001b[39;00m docker\u001b[38;5;241m.\u001b[39merrors\u001b[38;5;241m.\u001b[39mNotFound:\n\u001b[0;32m     39\u001b[0m         \u001b[38;5;28;01mpass\u001b[39;00m\n\u001b[1;32m---> 41\u001b[0m \u001b[43mtime\u001b[49m\u001b[38;5;241;43m.\u001b[39;49m\u001b[43msleep\u001b[49m\u001b[43m(\u001b[49m\u001b[38;5;241;43m10\u001b[39;49m\u001b[43m)\u001b[49m\n",
      "\u001b[1;31mKeyboardInterrupt\u001b[0m: "
     ]
    }
   ],
   "source": [
    "import docker\n",
    "import time\n",
    "from datetime import datetime, timedelta\n",
    "\n",
    "client = docker.from_env()\n",
    "\n",
    "containers_to_watch = [\"mysql\", \"nginx\"]\n",
    "start_time = datetime.now()\n",
    "\n",
    "while True:\n",
    "    for name in containers_to_watch:\n",
    "        try:\n",
    "            container = client.containers.get(name)\n",
    "            if container.status != \"running\":\n",
    "                print(f\"{name} was stopped. Restarting...\")\n",
    "                container.restart()\n",
    "        except docker.errors.NotFound:\n",
    "            print(f\"{name} not found.\")\n",
    "    \n",
    "    now = datetime.now()\n",
    "    if now - start_time >= timedelta(days=1):\n",
    "        print(\"One day passed. Performing maintenance restart.\")\n",
    "        for name in containers_to_watch:\n",
    "            try:\n",
    "                container = client.containers.get(name)\n",
    "                container.restart()\n",
    "            except docker.errors.NotFound:\n",
    "                print(f\"{name} not found during maintenance restart.\")\n",
    "        start_time = datetime.now()\n",
    "\n",
    "    for name in containers_to_watch:\n",
    "        try:\n",
    "            container = client.containers.get(name)\n",
    "            logs = container.logs(tail=10).decode().lower()\n",
    "            if \"error\" in logs or \"warning\" in logs:\n",
    "                print(f\"Log issues found in {name}:\")\n",
    "                print(logs)\n",
    "        except docker.errors.NotFound:\n",
    "            pass\n",
    "\n",
    "    time.sleep(10)\n"
   ]
  }
 ],
 "metadata": {
  "kernelspec": {
   "display_name": "Python 3",
   "language": "python",
   "name": "python3"
  },
  "language_info": {
   "codemirror_mode": {
    "name": "ipython",
    "version": 3
   },
   "file_extension": ".py",
   "mimetype": "text/x-python",
   "name": "python",
   "nbconvert_exporter": "python",
   "pygments_lexer": "ipython3",
   "version": "3.13.1"
  }
 },
 "nbformat": 4,
 "nbformat_minor": 5
}
