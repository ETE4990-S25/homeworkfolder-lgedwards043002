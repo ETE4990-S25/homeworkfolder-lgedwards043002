{
 "cells": [
  {
   "cell_type": "markdown",
   "metadata": {},
   "source": [
    "# Valentine's Day Lab Assignment\n",
    "Picking a Romantic Movie\n",
    "\n",
    "## Instructions:\n",
    "1. Download a dataset of romantic movies from a public dataset repository (e.g., Kaggle).\n",
    "   - Example dataset: \"Romantic Movies Dataset\" (ensure it's in JSON format).\n",
    "2. Load the dataset from the JSON file.\n",
    "3. Create a function that helps pick a romantic movie based on user preferences.\n",
    "4. Display the selected movie details.\n",
    "5. Verify the JSON file content\n",
    "\n"
   ]
  },
  {
   "cell_type": "code",
   "execution_count": 3,
   "metadata": {},
   "outputs": [
    {
     "ename": "ValueError",
     "evalue": "could not convert string to float: ''",
     "output_type": "error",
     "traceback": [
      "\u001b[1;31m---------------------------------------------------------------------------\u001b[0m",
      "\u001b[1;31mValueError\u001b[0m                                Traceback (most recent call last)",
      "Cell \u001b[1;32mIn[3], line 2\u001b[0m\n\u001b[0;32m      1\u001b[0m \u001b[38;5;66;03m# Sample Code:\u001b[39;00m\n\u001b[1;32m----> 2\u001b[0m min_rating \u001b[38;5;241m=\u001b[39m \u001b[38;5;28;43mfloat\u001b[39;49m\u001b[43m(\u001b[49m\u001b[38;5;28;43minput\u001b[39;49m\u001b[43m(\u001b[49m\u001b[38;5;124;43m\"\u001b[39;49m\u001b[38;5;124;43mEnter the minimum rating (0-10): \u001b[39;49m\u001b[38;5;124;43m\"\u001b[39;49m\u001b[43m)\u001b[49m\u001b[43m)\u001b[49m\n\u001b[0;32m      3\u001b[0m max_year \u001b[38;5;241m=\u001b[39m \u001b[38;5;28mint\u001b[39m(\u001b[38;5;28minput\u001b[39m(\u001b[38;5;124m\"\u001b[39m\u001b[38;5;124mEnter the latest release year: \u001b[39m\u001b[38;5;124m\"\u001b[39m))\n\u001b[0;32m      5\u001b[0m selected_movie \u001b[38;5;241m=\u001b[39m pick_movie(data, min_rating, max_year)\n",
      "\u001b[1;31mValueError\u001b[0m: could not convert string to float: ''"
     ]
    }
   ],
   "source": [
    "# Sample Code:\n",
    "min_rating = float(input(\"Enter the minimum rating (0-10): \"))\n",
    "max_year = int(input(\"Enter the latest release year: \"))\n",
    "\n",
    "selected_movie = pick_movie(data, min_rating, max_year)\n",
    "\n",
    "if isinstance(selected_movie, str):\n",
    "    print(selected_movie)\n",
    "else:\n",
    "    print(f\"Selected Movie: {selected_movie['Title']}\")\n",
    "    print(f\"Year: {selected_movie['Year']}\")\n",
    "    print(f\"Rating: {selected_movie['Rating']}\")\n",
    "    print(f\"Box Office: ${selected_movie['BoxOffice']} million\")"
   ]
  },
  {
   "cell_type": "code",
   "execution_count": 5,
   "metadata": {},
   "outputs": [
    {
     "name": "stdout",
     "output_type": "stream",
     "text": [
      "\n",
      " Welcome to Random Movie Selecter\n",
      "\n",
      "Choose a filter option:\n",
      "1 - Search by Genre\n",
      "2 - Search by Year\n",
      "3 - Search by Title\n",
      "\n",
      " No movies found based on your preferences.\n"
     ]
    }
   ],
   "source": [
    "import json\n",
    "\n",
    "json_file_path = r\"C:\\Users\\loren\\OneDrive\\Desktop\\data_set_movies\\movies_lab4\\movies\\Film.JSON\"\n",
    "\n",
    "with open(json_file_path, \"r\", encoding=\"utf-8\") as file:\n",
    "    movies_data = json.load(file)\n",
    "\n",
    "def pick_movie(preference, value):\n",
    "    selected_movies = []\n",
    "\n",
    "    for movie in movies_data:\n",
    "    \n",
    "        if preference in movie and value.lower() in str(movie[preference]).lower():\n",
    "            selected_movies.append(movie)\n",
    "\n",
    "    return selected_movies\n",
    "\n",
    "def display_movie_details(movies):\n",
    "    if not movies:\n",
    "        print(\"\\n No movies found based on your preferences.\")\n",
    "    else:\n",
    "        print(\"\\n Matching Movies:\\n\")\n",
    "        for movie in movies:\n",
    "            print(f\" Title: {movie.get('title' 'Uknown')}\")\n",
    "            print(f\" Year: {movie.get('year' 'Uknown')}\")\n",
    "            print(f\" Genre: {movie.get('genre' 'Uknown')}\")\n",
    "            print(f\" Description: {movie.get('description' 'No description available.')}\\n\")\n",
    "            print('-'* 50)\n",
    "        \n",
    "print(\"\\n Welcome to Random Movie Selecter\")\n",
    "\n",
    "print(\"\\nChoose a filter option:\")\n",
    "print(\"1 - Search by Genre\")\n",
    "print(\"2 - Search by Year\")\n",
    "print(\"3 - Search by Title\")\n",
    "choice = input(\"\\nEnter the number of your choice: \")\n",
    "\n",
    "selected_movies = []\n",
    "\n",
    "if choice ==\"1\":\n",
    "    search_value = input(\"\\nEnter a genre (ie Romance, Horror, Comedy, Mystery): \")\n",
    "    selected_movies = pick_movie(\"genre\", search_value)\n",
    "\n",
    "elif choice ==\"2\":\n",
    "    search_value = input(\"\\nEnter a year (ie 2002, 1984, 2010, 2020): \")\n",
    "    selected_movies = pick_movie(\"year\", search_value)\n",
    "elif choice == \"3\":\n",
    "    search_value = input(\"\\nEnter a title (ie No Country for Old Men, Trolls, Home Alone, VHS ): \")\n",
    "    selected_movies = pick_movie(\"title, search_value\")\n",
    "else:\n",
    "    print(\"\\n Invalid choice. Please restart and enter 1, 2, or 3.\")\n",
    "\n",
    "display_movie_details(selected_movies)\n",
    "\n",
    "\n",
    "\n"
   ]
  }
 ],
 "metadata": {
  "kernelspec": {
   "display_name": "Python 3",
   "language": "python",
   "name": "python3"
  },
  "language_info": {
   "codemirror_mode": {
    "name": "ipython",
    "version": 3
   },
   "file_extension": ".py",
   "mimetype": "text/x-python",
   "name": "python",
   "nbconvert_exporter": "python",
   "pygments_lexer": "ipython3",
   "version": "3.13.1"
  }
 },
 "nbformat": 4,
 "nbformat_minor": 2
}
