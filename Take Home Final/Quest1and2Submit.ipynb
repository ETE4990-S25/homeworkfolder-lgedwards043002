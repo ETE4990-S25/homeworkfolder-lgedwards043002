{
 "cells": [
  {
   "cell_type": "code",
   "execution_count": 1,
   "id": "4ecdb8bb-ca55-4f2a-92e3-e283998508cf",
   "metadata": {
    "scrolled": true
   },
   "outputs": [],
   "source": [
    "import os\n",
    "import requests\n",
    "import xmltodict\n",
    "import json\n",
    "from datetime import datetime, timedelta\n",
    "import pandas as pd\n",
    "import matplotlib.pyplot as plt\n",
    "import seaborn as sns\n",
    "import threading\n"
   ]
  },
  {
   "cell_type": "code",
   "execution_count": 2,
   "id": "4f7a440a-3d19-4064-ba9a-882d0201b4a6",
   "metadata": {
    "scrolled": true
   },
   "outputs": [],
   "source": [
    "# This function downloads the exchange rate for one day and one currency\n",
    "def get_day(base, date_str):\n",
    "    # I made a folder for the currency in case it didn't\n",
    "    folder = os.path.join(\"data\", base)\n",
    "    os.makedirs(folder, exist_ok=True)\n",
    "\n",
    "    file_path = os.path.join(folder, f\"{date_str}.json\")\n",
    "    \n",
    "    # If I already saved this file before, skip it. I had to check because I was running into issues\n",
    "    if os.path.exists(file_path):\n",
    "        print(f\"skipping {base} on {date_str}\")\n",
    "        return\n",
    "\n",
    "    # This is the floatrates.com URL with the date and base currency\n",
    "    url = f\"https://www.floatrates.com/historical-exchange-rates.html?operation=rates&pb_id=1775&page=historical&currency_date={date_str}&base_currency_code={base}&format_type=xml\"\n",
    "    \n",
    "    try:\n",
    "        r = requests.get(url, timeout=10)\n",
    "        r.raise_for_status()  # if it failed, it'll raise an error covering my bases)\n",
    "        xml_data = xmltodict.parse(r.text)  # turns XML into Python dictionary\n",
    "\n",
    "        # Saves the result as a JSON file\n",
    "        with open(file_path, \"w\") as f:\n",
    "            json.dump(xml_data, f, indent=2)\n",
    "\n",
    "        print(f\"saved {base} on {date_str}\")\n",
    "    except Exception as e:\n",
    "        print(f\"failed to get {base} on {date_str}: {e}\")\n",
    "\n",
    "# This function loops over a date range and uses threads to download faster\n",
    "def download_currency(base, start_date, end_date, max_threads=10):\n",
    "    threads = []\n",
    "    curr = start_date\n",
    "\n",
    "    while curr <= end_date:\n",
    "        date_str = curr.strftime(\"%Y-%m-%d\")\n",
    "        t = threading.Thread(target=get_day, args=(base, date_str))\n",
    "        t.start()\n",
    "        threads.append(t)\n",
    "\n",
    "        # I kept the thread count low so it didn't overload\n",
    "        if len(threads) >= max_threads:\n",
    "            for thread in threads:\n",
    "                thread.join()\n",
    "            threads = []\n",
    "\n",
    "        curr += timedelta(days=1)\n",
    "\n",
    "    for thread in threads:\n",
    "        thread.join()\n"
   ]
  },
  {
   "cell_type": "code",
   "execution_count": 3,
   "id": "595631b3-3250-49cf-bc1a-381cea070335",
   "metadata": {},
   "outputs": [
    {
     "name": "stdout",
     "output_type": "stream",
     "text": [
      "saved AUD on 2011-05-04\n",
      "saved AUD on 2011-05-06\n",
      "saved AUD on 2011-05-05\n"
     ]
    }
   ],
   "source": [
    "# Here I actually ran the downloader for AUD (Australian Dollar) I didn't even know Australia had their own currency\n",
    "# Just trying a few days to start, I can increase the range later\n",
    "base = \"AUD\"\n",
    "start = datetime(2011, 5, 4)\n",
    "end = datetime(2011, 5, 6)\n",
    "\n",
    "# This downloads the data and saves it in data/AUD/\n",
    "download_currency(base, start, end)\n"
   ]
  },
  {
   "cell_type": "code",
   "execution_count": 4,
   "id": "0677476b-0039-4874-9085-6ab2f812b1db",
   "metadata": {},
   "outputs": [
    {
     "name": "stdout",
     "output_type": "stream",
     "text": [
      "{'channel': {'title': 'XML Historical Foreign Exchange Rates for Australian Dollar (AUD) (4 May 2011)', 'link': 'http://www.floatrates.com/currency/aud/', 'xmlLink': 'http://www.floatrates.com/daily/aud.xml', 'description': 'XML historical foreign exchange rates for Australian Dollar (AUD) from the Float Rates. Published at 4 May 2011.', 'language': 'en', 'baseCurrency': 'AUD', 'pubDate': 'Wed, 4 May 2011', 'lastBuildDate': 'Wed, 4 May 2011', 'item': [{'title': '1 AUD = 0.727935 EUR', 'link': 'http://www.floatrates.com/aud/eur/', 'description': '1 Australian Dollar = 0.727935 Euro', 'pubDate': None, 'baseCurrency': 'AUD', 'baseName': 'Australian Dollar', 'targetCurrency': 'EUR', 'targetName': 'Euro', 'exchangeRate': '0.727935', 'inverseRate': '1.373749', 'inverseDescription': '1 Euro = 1.373749 Australian Dollar'}, {'title': '1 AUD = 0.655741 GBP', 'link': 'http://www.floatrates.com/aud/gbp/', 'description': '1 Australian Dollar = 0.655741 U.K. Pound Sterling', 'pubDate': None, 'baseCurrency': 'AUD', 'baseName': 'Australian Dollar', 'targetCurrency': 'GBP', 'targetName': 'U.K. Pound Sterling', 'exchangeRate': '0.655741', 'inverseRate': '1.524993', 'inverseDescription': '1 U.K. Pound Sterling = 1.524993 Australian Dollar'}, {'title': '1 AUD = 1.083313 USD', 'link': 'http://www.floatrates.com/aud/usd/', 'description': '1 Australian Dollar = 1.083313 U.S. Dollar', 'pubDate': None, 'baseCurrency': 'AUD', 'baseName': 'Australian Dollar', 'targetCurrency': 'USD', 'targetName': 'U.S. Dollar', 'exchangeRate': '1.083313', 'inverseRate': '0.923094', 'inverseDescription': '1 U.S. Dollar = 0.923094 Australian Dollar'}, {'title': '1 AUD = 77.232653 DZD', 'link': 'http://www.floatrates.com/aud/dzd/', 'description': '1 Australian Dollar = 77.232653 Algerian Dinar', 'pubDate': None, 'baseCurrency': 'AUD', 'baseName': 'Australian Dollar', 'targetCurrency': 'DZD', 'targetName': 'Algerian Dinar', 'exchangeRate': '77.232653', 'inverseRate': '0.012948', 'inverseDescription': '1 Algerian Dinar = 0.012948 Australian Dollar'}, {'title': '1 AUD = 1.000000 AUD', 'link': 'http://www.floatrates.com/aud/aud/', 'description': '1 Australian Dollar = 1.000000 Australian Dollar', 'pubDate': None, 'baseCurrency': 'AUD', 'baseName': 'Australian Dollar', 'targetCurrency': 'AUD', 'targetName': 'Australian Dollar', 'exchangeRate': '1.000000', 'inverseRate': '1.000000', 'inverseDescription': '1 Australian Dollar = 1.000000 Australian Dollar'}, {'title': '1 AUD = 6.904482 BWP', 'link': 'http://www.floatrates.com/aud/bwp/', 'description': '1 Australian Dollar = 6.904482 Botswana Pula', 'pubDate': None, 'baseCurrency': 'AUD', 'baseName': 'Australian Dollar', 'targetCurrency': 'BWP', 'targetName': 'Botswana Pula', 'exchangeRate': '6.904482', 'inverseRate': '0.144833', 'inverseDescription': '1 Botswana Pula = 0.144833 Australian Dollar'}, {'title': '1 AUD = 1.332692 BND', 'link': 'http://www.floatrates.com/aud/bnd/', 'description': '1 Australian Dollar = 1.332692 Brunei Dollar', 'pubDate': None, 'baseCurrency': 'AUD', 'baseName': 'Australian Dollar', 'targetCurrency': 'BND', 'targetName': 'Brunei Dollar', 'exchangeRate': '1.332692', 'inverseRate': '0.750361', 'inverseDescription': '1 Brunei Dollar = 0.750361 Australian Dollar'}, {'title': '1 AUD = 1.035825 CAD', 'link': 'http://www.floatrates.com/aud/cad/', 'description': '1 Australian Dollar = 1.035825 Canadian Dollar', 'pubDate': None, 'baseCurrency': 'AUD', 'baseName': 'Australian Dollar', 'targetCurrency': 'CAD', 'targetName': 'Canadian Dollar', 'exchangeRate': '1.035825', 'inverseRate': '0.965414', 'inverseDescription': '1 Canadian Dollar = 0.965414 Australian Dollar'}, {'title': '1 AUD = 501.649875 CLP', 'link': 'http://www.floatrates.com/aud/clp/', 'description': '1 Australian Dollar = 501.649875 Chilean Peso', 'pubDate': None, 'baseCurrency': 'AUD', 'baseName': 'Australian Dollar', 'targetCurrency': 'CLP', 'targetName': 'Chilean Peso', 'exchangeRate': '501.649875', 'inverseRate': '0.001993', 'inverseDescription': '1 Chilean Peso = 0.001993 Australian Dollar'}, {'title': '1 AUD = 7.040121 CNY', 'link': 'http://www.floatrates.com/aud/cny/', 'description': '1 Australian Dollar = 7.040121 Chinese Yuan', 'pubDate': None, 'baseCurrency': 'AUD', 'baseName': 'Australian Dollar', 'targetCurrency': 'CNY', 'targetName': 'Chinese Yuan', 'exchangeRate': '7.040121', 'inverseRate': '0.142043', 'inverseDescription': '1 Chinese Yuan = 0.142043 Australian Dollar'}, {'title': '1 AUD = 1,914.268709 COP', 'link': 'http://www.floatrates.com/aud/cop/', 'description': '1 Australian Dollar = 1,914.268709 Colombian Peso', 'pubDate': None, 'baseCurrency': 'AUD', 'baseName': 'Australian Dollar', 'targetCurrency': 'COP', 'targetName': 'Colombian Peso', 'exchangeRate': '1,914.268709', 'inverseRate': '0.000522', 'inverseDescription': '1 Colombian Peso = 0.000522 Australian Dollar'}, {'title': '1 AUD = 17.620922 CZK', 'link': 'http://www.floatrates.com/aud/czk/', 'description': '1 Australian Dollar = 17.620922 Czech Koruna', 'pubDate': None, 'baseCurrency': 'AUD', 'baseName': 'Australian Dollar', 'targetCurrency': 'CZK', 'targetName': 'Czech Koruna', 'exchangeRate': '17.620922', 'inverseRate': '0.056751', 'inverseDescription': '1 Czech Koruna = 0.056751 Australian Dollar'}, {'title': '1 AUD = 5.428056 DKK', 'link': 'http://www.floatrates.com/aud/dkk/', 'description': '1 Australian Dollar = 5.428056 Danish Krone', 'pubDate': None, 'baseCurrency': 'AUD', 'baseName': 'Australian Dollar', 'targetCurrency': 'DKK', 'targetName': 'Danish Krone', 'exchangeRate': '5.428056', 'inverseRate': '0.184228', 'inverseDescription': '1 Danish Krone = 0.184228 Australian Dollar'}, {'title': '1 AUD = 193.188136 HUF', 'link': 'http://www.floatrates.com/aud/huf/', 'description': '1 Australian Dollar = 193.188136 Hungarian Forint', 'pubDate': None, 'baseCurrency': 'AUD', 'baseName': 'Australian Dollar', 'targetCurrency': 'HUF', 'targetName': 'Hungarian Forint', 'exchangeRate': '193.188136', 'inverseRate': '0.005176', 'inverseDescription': '1 Hungarian Forint = 0.005176 Australian Dollar'}, {'title': '1 AUD = 120.670265 ISK', 'link': 'http://www.floatrates.com/aud/isk/', 'description': '1 Australian Dollar = 120.670265 Icelandic Krona', 'pubDate': None, 'baseCurrency': 'AUD', 'baseName': 'Australian Dollar', 'targetCurrency': 'ISK', 'targetName': 'Icelandic Krona', 'exchangeRate': '120.670265', 'inverseRate': '0.008287', 'inverseDescription': '1 Icelandic Krona = 0.008287 Australian Dollar'}, {'title': '1 AUD = 48.261544 INR', 'link': 'http://www.floatrates.com/aud/inr/', 'description': '1 Australian Dollar = 48.261544 Indian Rupee', 'pubDate': None, 'baseCurrency': 'AUD', 'baseName': 'Australian Dollar', 'targetCurrency': 'INR', 'targetName': 'Indian Rupee', 'exchangeRate': '48.261544', 'inverseRate': '0.020720', 'inverseDescription': '1 Indian Rupee = 0.020720 Australian Dollar'}, {'title': '1 AUD = 9,269.544116 IDR', 'link': 'http://www.floatrates.com/aud/idr/', 'description': '1 Australian Dollar = 9,269.544116 Indonesian Rupiah', 'pubDate': None, 'baseCurrency': 'AUD', 'baseName': 'Australian Dollar', 'targetCurrency': 'IDR', 'targetName': 'Indonesian Rupiah', 'exchangeRate': '9,269.544116', 'inverseRate': '0.000108', 'inverseDescription': '1 Indonesian Rupiah = 0.000108 Australian Dollar'}, {'title': '1 AUD = 3.675454 ILS', 'link': 'http://www.floatrates.com/aud/ils/', 'description': '1 Australian Dollar = 3.675454 Israeli New Sheqel', 'pubDate': None, 'baseCurrency': 'AUD', 'baseName': 'Australian Dollar', 'targetCurrency': 'ILS', 'targetName': 'Israeli New Sheqel', 'exchangeRate': '3.675454', 'inverseRate': '0.272075', 'inverseDescription': '1 Israeli New Sheqel = 0.272075 Australian Dollar'}, {'title': '1 AUD = 157.936241 KZT', 'link': 'http://www.floatrates.com/aud/kzt/', 'description': '1 Australian Dollar = 157.936241 Kazakhstani Tenge', 'pubDate': None, 'baseCurrency': 'AUD', 'baseName': 'Australian Dollar', 'targetCurrency': 'KZT', 'targetName': 'Kazakhstani Tenge', 'exchangeRate': '157.936241', 'inverseRate': '0.006332', 'inverseDescription': '1 Kazakhstani Tenge = 0.006332 Australian Dollar'}, {'title': '1 AUD = 1,160.285938 KRW', 'link': 'http://www.floatrates.com/aud/krw/', 'description': '1 Australian Dollar = 1,160.285938 South Korean Won', 'pubDate': None, 'baseCurrency': 'AUD', 'baseName': 'Australian Dollar', 'targetCurrency': 'KRW', 'targetName': 'South Korean Won', 'exchangeRate': '1,160.285938', 'inverseRate': '0.000862', 'inverseDescription': '1 South Korean Won = 0.000862 Australian Dollar'}, {'title': '1 AUD = 0.297261 KWD', 'link': 'http://www.floatrates.com/aud/kwd/', 'description': '1 Australian Dollar = 0.297261 Kuwaiti Dinar', 'pubDate': None, 'baseCurrency': 'AUD', 'baseName': 'Australian Dollar', 'targetCurrency': 'KWD', 'targetName': 'Kuwaiti Dinar', 'exchangeRate': '0.297261', 'inverseRate': '3.364045', 'inverseDescription': '1 Kuwaiti Dinar = 3.364045 Australian Dollar'}, {'title': '1 AUD = 2.093395 LYD', 'link': 'http://www.floatrates.com/aud/lyd/', 'description': '1 Australian Dollar = 2.093395 Libyan Dinar', 'pubDate': None, 'baseCurrency': 'AUD', 'baseName': 'Australian Dollar', 'targetCurrency': 'LYD', 'targetName': 'Libyan Dinar', 'exchangeRate': '2.093395', 'inverseRate': '0.477693', 'inverseDescription': '1 Libyan Dinar = 0.477693 Australian Dollar'}, {'title': '1 AUD = 3.227197 MYR', 'link': 'http://www.floatrates.com/aud/myr/', 'description': '1 Australian Dollar = 3.227197 Malaysian Ringgit', 'pubDate': None, 'baseCurrency': 'AUD', 'baseName': 'Australian Dollar', 'targetCurrency': 'MYR', 'targetName': 'Malaysian Ringgit', 'exchangeRate': '3.227197', 'inverseRate': '0.309866', 'inverseDescription': '1 Malaysian Ringgit = 0.309866 Australian Dollar'}, {'title': '1 AUD = 29.496995 MUR', 'link': 'http://www.floatrates.com/aud/mur/', 'description': '1 Australian Dollar = 29.496995 Mauritian Rupee', 'pubDate': None, 'baseCurrency': 'AUD', 'baseName': 'Australian Dollar', 'targetCurrency': 'MUR', 'targetName': 'Mauritian Rupee', 'exchangeRate': '29.496995', 'inverseRate': '0.033902', 'inverseDescription': '1 Mauritian Rupee = 0.033902 Australian Dollar'}, {'title': '1 AUD = 77.066906 NPR', 'link': 'http://www.floatrates.com/aud/npr/', 'description': '1 Australian Dollar = 77.066906 Nepalese Rupee', 'pubDate': None, 'baseCurrency': 'AUD', 'baseName': 'Australian Dollar', 'targetCurrency': 'NPR', 'targetName': 'Nepalese Rupee', 'exchangeRate': '77.066906', 'inverseRate': '0.012976', 'inverseDescription': '1 Nepalese Rupee = 0.012976 Australian Dollar'}, {'title': '1 AUD = 1.359692 NZD', 'link': 'http://www.floatrates.com/aud/nzd/', 'description': '1 Australian Dollar = 1.359692 New Zealand Dollar', 'pubDate': None, 'baseCurrency': 'AUD', 'baseName': 'Australian Dollar', 'targetCurrency': 'NZD', 'targetName': 'New Zealand Dollar', 'exchangeRate': '1.359692', 'inverseRate': '0.735461', 'inverseDescription': '1 New Zealand Dollar = 0.735461 Australian Dollar'}, {'title': '1 AUD = 5.729550 NOK', 'link': 'http://www.floatrates.com/aud/nok/', 'description': '1 Australian Dollar = 5.729550 Norwegian Krone', 'pubDate': None, 'baseCurrency': 'AUD', 'baseName': 'Australian Dollar', 'targetCurrency': 'NOK', 'targetName': 'Norwegian Krone', 'exchangeRate': '5.729550', 'inverseRate': '0.174534', 'inverseDescription': '1 Norwegian Krone = 0.174534 Australian Dollar'}, {'title': '1 AUD = 0.416534 OMR', 'link': 'http://www.floatrates.com/aud/omr/', 'description': '1 Australian Dollar = 0.416534 Omani Rial', 'pubDate': None, 'baseCurrency': 'AUD', 'baseName': 'Australian Dollar', 'targetCurrency': 'OMR', 'targetName': 'Omani Rial', 'exchangeRate': '0.416534', 'inverseRate': '2.400765', 'inverseDescription': '1 Omani Rial = 2.400765 Australian Dollar'}, {'title': '1 AUD = 91.332517 PKR', 'link': 'http://www.floatrates.com/aud/pkr/', 'description': '1 Australian Dollar = 91.332517 Pakistani Rupee', 'pubDate': None, 'baseCurrency': 'AUD', 'baseName': 'Australian Dollar', 'targetCurrency': 'PKR', 'targetName': 'Pakistani Rupee', 'exchangeRate': '91.332517', 'inverseRate': '0.010949', 'inverseDescription': '1 Pakistani Rupee = 0.010949 Australian Dollar'}, {'title': '1 AUD = 2.868978 PLN', 'link': 'http://www.floatrates.com/aud/pln/', 'description': '1 Australian Dollar = 2.868978 Polish Zloty', 'pubDate': None, 'baseCurrency': 'AUD', 'baseName': 'Australian Dollar', 'targetCurrency': 'PLN', 'targetName': 'Polish Zloty', 'exchangeRate': '2.868978', 'inverseRate': '0.348556', 'inverseDescription': '1 Polish Zloty = 0.348556 Australian Dollar'}, {'title': '1 AUD = 3.943260 QAR', 'link': 'http://www.floatrates.com/aud/qar/', 'description': '1 Australian Dollar = 3.943260 Qatari Rial', 'pubDate': None, 'baseCurrency': 'AUD', 'baseName': 'Australian Dollar', 'targetCurrency': 'QAR', 'targetName': 'Qatari Rial', 'exchangeRate': '3.943260', 'inverseRate': '0.253597', 'inverseDescription': '1 Qatari Rial = 0.253597 Australian Dollar'}, {'title': '1 AUD = 29.599456 RUB', 'link': 'http://www.floatrates.com/aud/rub/', 'description': '1 Australian Dollar = 29.599456 Russian Rouble', 'pubDate': None, 'baseCurrency': 'AUD', 'baseName': 'Australian Dollar', 'targetCurrency': 'RUB', 'targetName': 'Russian Rouble', 'exchangeRate': '29.599456', 'inverseRate': '0.033784', 'inverseDescription': '1 Russian Rouble = 0.033784 Australian Dollar'}, {'title': '1 AUD = 4.062425 SAR', 'link': 'http://www.floatrates.com/aud/sar/', 'description': '1 Australian Dollar = 4.062425 Saudi Riyal', 'pubDate': None, 'baseCurrency': 'AUD', 'baseName': 'Australian Dollar', 'targetCurrency': 'SAR', 'targetName': 'Saudi Riyal', 'exchangeRate': '4.062425', 'inverseRate': '0.246158', 'inverseDescription': '1 Saudi Riyal = 0.246158 Australian Dollar'}, {'title': '1 AUD = 1.331653 SGD', 'link': 'http://www.floatrates.com/aud/sgd/', 'description': '1 Australian Dollar = 1.331653 Singapore Dollar', 'pubDate': None, 'baseCurrency': 'AUD', 'baseName': 'Australian Dollar', 'targetCurrency': 'SGD', 'targetName': 'Singapore Dollar', 'exchangeRate': '1.331653', 'inverseRate': '0.750947', 'inverseDescription': '1 Singapore Dollar = 0.750947 Australian Dollar'}, {'title': '1 AUD = 7.175771 ZAR', 'link': 'http://www.floatrates.com/aud/zar/', 'description': '1 Australian Dollar = 7.175771 South African Rand', 'pubDate': None, 'baseCurrency': 'AUD', 'baseName': 'Australian Dollar', 'targetCurrency': 'ZAR', 'targetName': 'South African Rand', 'exchangeRate': '7.175771', 'inverseRate': '0.139358', 'inverseDescription': '1 South African Rand = 0.139358 Australian Dollar'}, {'title': '1 AUD = 118.927755 LKR', 'link': 'http://www.floatrates.com/aud/lkr/', 'description': '1 Australian Dollar = 118.927755 Sri Lanka Rupee', 'pubDate': None, 'baseCurrency': 'AUD', 'baseName': 'Australian Dollar', 'targetCurrency': 'LKR', 'targetName': 'Sri Lanka Rupee', 'exchangeRate': '118.927755', 'inverseRate': '0.008408', 'inverseDescription': '1 Sri Lanka Rupee = 0.008408 Australian Dollar'}, {'title': '1 AUD = 6.546689 SEK', 'link': 'http://www.floatrates.com/aud/sek/', 'description': '1 Australian Dollar = 6.546689 Swedish Krona', 'pubDate': None, 'baseCurrency': 'AUD', 'baseName': 'Australian Dollar', 'targetCurrency': 'SEK', 'targetName': 'Swedish Krona', 'exchangeRate': '6.546689', 'inverseRate': '0.152749', 'inverseDescription': '1 Swedish Krona = 0.152749 Australian Dollar'}, {'title': '1 AUD = 0.934049 CHF', 'link': 'http://www.floatrates.com/aud/chf/', 'description': '1 Australian Dollar = 0.934049 Swiss Franc', 'pubDate': None, 'baseCurrency': 'AUD', 'baseName': 'Australian Dollar', 'targetCurrency': 'CHF', 'targetName': 'Swiss Franc', 'exchangeRate': '0.934049', 'inverseRate': '1.070607', 'inverseDescription': '1 Swiss Franc = 1.070607 Australian Dollar'}, {'title': '1 AUD = 32.525312 THB', 'link': 'http://www.floatrates.com/aud/thb/', 'description': '1 Australian Dollar = 32.525312 Thai Baht', 'pubDate': None, 'baseCurrency': 'AUD', 'baseName': 'Australian Dollar', 'targetCurrency': 'THB', 'targetName': 'Thai Baht', 'exchangeRate': '32.525312', 'inverseRate': '0.030745', 'inverseDescription': '1 Thai Baht = 0.030745 Australian Dollar'}, {'title': '1 AUD = 6.927897 TTD', 'link': 'http://www.floatrates.com/aud/ttd/', 'description': '1 Australian Dollar = 6.927897 Trinidad Tobago Dollar', 'pubDate': None, 'baseCurrency': 'AUD', 'baseName': 'Australian Dollar', 'targetCurrency': 'TTD', 'targetName': 'Trinidad Tobago Dollar', 'exchangeRate': '6.927897', 'inverseRate': '0.144344', 'inverseDescription': '1 Trinidad Tobago Dollar = 0.144344 Australian Dollar'}, {'title': '1 AUD = 3.978468 AED', 'link': 'http://www.floatrates.com/aud/aed/', 'description': '1 Australian Dollar = 3.978468 U.A.E Dirham', 'pubDate': None, 'baseCurrency': 'AUD', 'baseName': 'Australian Dollar', 'targetCurrency': 'AED', 'targetName': 'U.A.E Dirham', 'exchangeRate': '3.978468', 'inverseRate': '0.251353', 'inverseDescription': '1 U.A.E Dirham = 0.251353 Australian Dollar'}, {'title': '1 AUD = 4.646656 VEF', 'link': 'http://www.floatrates.com/aud/vef/', 'description': '1 Australian Dollar = 4.646656 Venezuelan Bolivar (till 20 August 2018)', 'pubDate': None, 'baseCurrency': 'AUD', 'baseName': 'Australian Dollar', 'targetCurrency': 'VEF', 'targetName': 'Venezuelan Bolivar (till 20 August 2018)', 'exchangeRate': '4.646656', 'inverseRate': '0.215209', 'inverseDescription': '1 Venezuelan Bolivar (till 20 August 2018) = 0.215209 Australian Dollar'}, {'title': '1 AUD = 87.803552 JPY', 'link': 'http://www.floatrates.com/aud/jpy/', 'description': '1 Australian Dollar = 87.803552 Japanese Yen', 'pubDate': None, 'baseCurrency': 'AUD', 'baseName': 'Australian Dollar', 'targetCurrency': 'JPY', 'targetName': 'Japanese Yen', 'exchangeRate': '87.803552', 'inverseRate': '0.011389', 'inverseDescription': '1 Japanese Yen = 0.011389 Australian Dollar'}, {'title': '1 AUD = 1.423696 BGN', 'link': 'http://www.floatrates.com/aud/bgn/', 'description': '1 Australian Dollar = 1.423696 Bulgarian Lev', 'pubDate': None, 'baseCurrency': 'AUD', 'baseName': 'Australian Dollar', 'targetCurrency': 'BGN', 'targetName': 'Bulgarian Lev', 'exchangeRate': '1.423696', 'inverseRate': '0.702397', 'inverseDescription': '1 Bulgarian Lev = 0.702397 Australian Dollar'}, {'title': '1 AUD = 2.513415 LTL', 'link': 'http://www.floatrates.com/aud/ltl/', 'description': '1 Australian Dollar = 2.513415 Lithuanian Litas', 'pubDate': None, 'baseCurrency': 'AUD', 'baseName': 'Australian Dollar', 'targetCurrency': 'LTL', 'targetName': 'Lithuanian Litas', 'exchangeRate': '2.513415', 'inverseRate': '0.397865', 'inverseDescription': '1 Lithuanian Litas = 0.397865 Australian Dollar'}, {'title': '1 AUD = 0.516470 LVL', 'link': 'http://www.floatrates.com/aud/lvl/', 'description': '1 Australian Dollar = 0.516470 Latvian Lats', 'pubDate': None, 'baseCurrency': 'AUD', 'baseName': 'Australian Dollar', 'targetCurrency': 'LVL', 'targetName': 'Latvian Lats', 'exchangeRate': '0.516470', 'inverseRate': '1.936221', 'inverseDescription': '1 Latvian Lats = 1.936221 Australian Dollar'}, {'title': '1 AUD = 2.991814 RON', 'link': 'http://www.floatrates.com/aud/ron/', 'description': '1 Australian Dollar = 2.991814 Romanian New Leu', 'pubDate': None, 'baseCurrency': 'AUD', 'baseName': 'Australian Dollar', 'targetCurrency': 'RON', 'targetName': 'Romanian New Leu', 'exchangeRate': '2.991814', 'inverseRate': '0.334245', 'inverseDescription': '1 Romanian New Leu = 0.334245 Australian Dollar'}, {'title': '1 AUD = 5.373254 HRK', 'link': 'http://www.floatrates.com/aud/hrk/', 'description': '1 Australian Dollar = 5.373254 Croatian Kuna', 'pubDate': None, 'baseCurrency': 'AUD', 'baseName': 'Australian Dollar', 'targetCurrency': 'HRK', 'targetName': 'Croatian Kuna', 'exchangeRate': '5.373254', 'inverseRate': '0.186107', 'inverseDescription': '1 Croatian Kuna = 0.186107 Australian Dollar'}, {'title': '1 AUD = 1.665298 TRY', 'link': 'http://www.floatrates.com/aud/try/', 'description': '1 Australian Dollar = 1.665298 Turkish Lira', 'pubDate': None, 'baseCurrency': 'AUD', 'baseName': 'Australian Dollar', 'targetCurrency': 'TRY', 'targetName': 'Turkish Lira', 'exchangeRate': '1.665298', 'inverseRate': '0.600493', 'inverseDescription': '1 Turkish Lira = 0.600493 Australian Dollar'}, {'title': '1 AUD = 1.716399 BRL', 'link': 'http://www.floatrates.com/aud/brl/', 'description': '1 Australian Dollar = 1.716399 Brazilian Real', 'pubDate': None, 'baseCurrency': 'AUD', 'baseName': 'Australian Dollar', 'targetCurrency': 'BRL', 'targetName': 'Brazilian Real', 'exchangeRate': '1.716399', 'inverseRate': '0.582615', 'inverseDescription': '1 Brazilian Real = 0.582615 Australian Dollar'}, {'title': '1 AUD = 8.416606 HKD', 'link': 'http://www.floatrates.com/aud/hkd/', 'description': '1 Australian Dollar = 8.416606 Hong Kong Dollar', 'pubDate': None, 'baseCurrency': 'AUD', 'baseName': 'Australian Dollar', 'targetCurrency': 'HKD', 'targetName': 'Hong Kong Dollar', 'exchangeRate': '8.416606', 'inverseRate': '0.118813', 'inverseDescription': '1 Hong Kong Dollar = 0.118813 Australian Dollar'}, {'title': '1 AUD = 12.533153 MXN', 'link': 'http://www.floatrates.com/aud/mxn/', 'description': '1 Australian Dollar = 12.533153 Mexican Peso', 'pubDate': None, 'baseCurrency': 'AUD', 'baseName': 'Australian Dollar', 'targetCurrency': 'MXN', 'targetName': 'Mexican Peso', 'exchangeRate': '12.533153', 'inverseRate': '0.079788', 'inverseDescription': '1 Mexican Peso = 0.079788 Australian Dollar'}, {'title': '1 AUD = 46.488858 PHP', 'link': 'http://www.floatrates.com/aud/php/', 'description': '1 Australian Dollar = 46.488858 Philippine Peso', 'pubDate': None, 'baseCurrency': 'AUD', 'baseName': 'Australian Dollar', 'targetCurrency': 'PHP', 'targetName': 'Philippine Peso', 'exchangeRate': '46.488858', 'inverseRate': '0.021511', 'inverseDescription': '1 Philippine Peso = 0.021511 Australian Dollar'}]}}\n"
     ]
    }
   ],
   "source": [
    "# Tried opening the file and printing what’s inside (I was double checking just to make sure)\n",
    "import json\n",
    "\n",
    "with open(\"data/AUD/2011-05-04.json\") as f:\n",
    "    contents = json.load(f)\n",
    "\n",
    "# Shows the raw structure\n",
    "print(contents)\n"
   ]
  },
  {
   "cell_type": "code",
   "execution_count": 5,
   "id": "9d520f05-c87a-4f13-a799-ecc9a8995cfb",
   "metadata": {},
   "outputs": [],
   "source": [
    "\n",
    "data_dir = f\"./data/{base}\"\n",
    "files = sorted(os.listdir(data_dir))\n",
    "all_data = []\n",
    "\n",
    "for filename in files:\n",
    "    path = os.path.join(data_dir, filename)\n",
    "    with open(path) as f:\n",
    "        raw = json.load(f)\n",
    "\n",
    "    # The date is just the filename without .json\n",
    "    date = filename.replace(\".json\", \"\")\n",
    "\n",
    "    try:\n",
    "        # I checked if the data uses the 'channel' and 'item' structure\n",
    "        if 'channel' in raw and 'item' in raw['channel']:\n",
    "            items = raw['channel']['item']\n",
    "\n",
    "            # If there's just one item, wrap it in a list\n",
    "            if isinstance(items, dict):\n",
    "                items = [items]\n",
    "\n",
    "            # goes through each currency exchange rate\n",
    "            for r in items:\n",
    "                all_data.append({\n",
    "                    'date': date,\n",
    "                    'currency': r['targetCurrency'],\n",
    "                    'rate': float(r['exchangeRate'].replace(',', '')),  # handle commas\n",
    "                })\n",
    "        else:\n",
    "            print(f\"{filename} doesn't contain usable exchange rate data.\")\n",
    "\n",
    "    except Exception as e:\n",
    "        print(f\"Error in {filename}: {e}\")\n"
   ]
  },
  {
   "cell_type": "code",
   "execution_count": 6,
   "id": "40b67120-2b15-4ecf-a8ba-587f7e16da64",
   "metadata": {},
   "outputs": [
    {
     "data": {
      "text/html": [
       "<div>\n",
       "<style scoped>\n",
       "    .dataframe tbody tr th:only-of-type {\n",
       "        vertical-align: middle;\n",
       "    }\n",
       "\n",
       "    .dataframe tbody tr th {\n",
       "        vertical-align: top;\n",
       "    }\n",
       "\n",
       "    .dataframe thead th {\n",
       "        text-align: right;\n",
       "    }\n",
       "</style>\n",
       "<table border=\"1\" class=\"dataframe\">\n",
       "  <thead>\n",
       "    <tr style=\"text-align: right;\">\n",
       "      <th></th>\n",
       "      <th>date</th>\n",
       "      <th>currency</th>\n",
       "      <th>rate</th>\n",
       "    </tr>\n",
       "  </thead>\n",
       "  <tbody>\n",
       "    <tr>\n",
       "      <th>0</th>\n",
       "      <td>2011-05-04</td>\n",
       "      <td>EUR</td>\n",
       "      <td>0.727935</td>\n",
       "    </tr>\n",
       "    <tr>\n",
       "      <th>1</th>\n",
       "      <td>2011-05-04</td>\n",
       "      <td>GBP</td>\n",
       "      <td>0.655741</td>\n",
       "    </tr>\n",
       "    <tr>\n",
       "      <th>2</th>\n",
       "      <td>2011-05-04</td>\n",
       "      <td>USD</td>\n",
       "      <td>1.083313</td>\n",
       "    </tr>\n",
       "    <tr>\n",
       "      <th>3</th>\n",
       "      <td>2011-05-04</td>\n",
       "      <td>DZD</td>\n",
       "      <td>77.232653</td>\n",
       "    </tr>\n",
       "    <tr>\n",
       "      <th>4</th>\n",
       "      <td>2011-05-04</td>\n",
       "      <td>AUD</td>\n",
       "      <td>1.000000</td>\n",
       "    </tr>\n",
       "  </tbody>\n",
       "</table>\n",
       "</div>"
      ],
      "text/plain": [
       "        date currency       rate\n",
       "0 2011-05-04      EUR   0.727935\n",
       "1 2011-05-04      GBP   0.655741\n",
       "2 2011-05-04      USD   1.083313\n",
       "3 2011-05-04      DZD  77.232653\n",
       "4 2011-05-04      AUD   1.000000"
      ]
     },
     "execution_count": 6,
     "metadata": {},
     "output_type": "execute_result"
    }
   ],
   "source": [
    "# Now I'm turning my list of exchange rates into a DataFrame so I can analyze it\n",
    "df = pd.DataFrame(all_data)\n",
    "\n",
    "# this makees sure the date column is in proper date time format for sorting and plotting\n",
    "df['date'] = pd.to_datetime(df['date'])\n",
    "\n",
    "# this just checks to see if it loads correctly\n",
    "df.head()\n"
   ]
  },
  {
   "cell_type": "code",
   "execution_count": 7,
   "id": "92bbc21d-18c5-4de3-9e7f-ab736677769c",
   "metadata": {},
   "outputs": [
    {
     "name": "stdout",
     "output_type": "stream",
     "text": [
      "Most stable currencies:\n",
      "currency\n",
      "AUD    0.000000\n",
      "KWD    0.002147\n",
      "NZD    0.002323\n",
      "CAD    0.002744\n",
      "OMR    0.002798\n",
      "Name: rate, dtype: float64\n",
      "\n",
      "Most volatile currencies:\n",
      "currency\n",
      "KRW     1.630300\n",
      "HUF     2.161142\n",
      "CLP     2.652915\n",
      "COP    12.899590\n",
      "IDR    49.777559\n",
      "Name: rate, dtype: float64\n"
     ]
    }
   ],
   "source": [
    "# This  pretty much shows how much each currency's rate varies (standard deviation)\n",
    "stability = df.groupby('currency')['rate'].std().sort_values()\n",
    "\n",
    "# Least volatile currencies (very stable)\n",
    "print(\"Most stable currencies:\")\n",
    "print(stability.head())\n",
    "\n",
    "# Most volatile currencies (rates jump around more)\n",
    "print(\"\\nMost volatile currencies:\")\n",
    "print(stability.tail())\n"
   ]
  },
  {
   "cell_type": "code",
   "execution_count": 8,
   "id": "44c42fed-135d-472c-80e8-a07859b135c7",
   "metadata": {},
   "outputs": [
    {
     "data": {
      "text/html": [
       "<div>\n",
       "<style scoped>\n",
       "    .dataframe tbody tr th:only-of-type {\n",
       "        vertical-align: middle;\n",
       "    }\n",
       "\n",
       "    .dataframe tbody tr th {\n",
       "        vertical-align: top;\n",
       "    }\n",
       "\n",
       "    .dataframe thead th {\n",
       "        text-align: right;\n",
       "    }\n",
       "</style>\n",
       "<table border=\"1\" class=\"dataframe\">\n",
       "  <thead>\n",
       "    <tr style=\"text-align: right;\">\n",
       "      <th></th>\n",
       "      <th>date</th>\n",
       "      <th>currency</th>\n",
       "      <th>rate</th>\n",
       "    </tr>\n",
       "  </thead>\n",
       "  <tbody>\n",
       "    <tr>\n",
       "      <th>0</th>\n",
       "      <td>2011-05-04</td>\n",
       "      <td>EUR</td>\n",
       "      <td>0.727935</td>\n",
       "    </tr>\n",
       "    <tr>\n",
       "      <th>1</th>\n",
       "      <td>2011-05-04</td>\n",
       "      <td>GBP</td>\n",
       "      <td>0.655741</td>\n",
       "    </tr>\n",
       "    <tr>\n",
       "      <th>2</th>\n",
       "      <td>2011-05-04</td>\n",
       "      <td>USD</td>\n",
       "      <td>1.083313</td>\n",
       "    </tr>\n",
       "    <tr>\n",
       "      <th>3</th>\n",
       "      <td>2011-05-04</td>\n",
       "      <td>DZD</td>\n",
       "      <td>77.232653</td>\n",
       "    </tr>\n",
       "    <tr>\n",
       "      <th>4</th>\n",
       "      <td>2011-05-04</td>\n",
       "      <td>AUD</td>\n",
       "      <td>1.000000</td>\n",
       "    </tr>\n",
       "  </tbody>\n",
       "</table>\n",
       "</div>"
      ],
      "text/plain": [
       "        date currency       rate\n",
       "0 2011-05-04      EUR   0.727935\n",
       "1 2011-05-04      GBP   0.655741\n",
       "2 2011-05-04      USD   1.083313\n",
       "3 2011-05-04      DZD  77.232653\n",
       "4 2011-05-04      AUD   1.000000"
      ]
     },
     "execution_count": 8,
     "metadata": {},
     "output_type": "execute_result"
    }
   ],
   "source": [
    "# Turning my list of exchange rate records into a pandas DataFrame\n",
    "df = pd.DataFrame(all_data)\n",
    "\n",
    "# Making sure the 'date' column is in datetime format so I can sort and plot by time\n",
    "df['date'] = pd.to_datetime(df['date'])\n",
    "\n",
    "# Previews the first few rows to make sure it actually worked\n",
    "df.head()\n"
   ]
  },
  {
   "cell_type": "code",
   "execution_count": null,
   "id": "e55daa7b-9b8b-4926-9646-4d1bc30a1619",
   "metadata": {},
   "outputs": [
    {
     "data": {
      "image/png": "[encoded data removed]",
      "text/plain": [
       "<Figure size 1200x600 with 1 Axes>"
      ]
     },
     "metadata": {},
     "output_type": "display_data"
    }
   ],
   "source": [
    "# I'm comparing a few currencies against AUD over time\n",
    "plot_currencies = [\"USD\", \"EUR\", \"GBP\"]\n",
    "\n",
    "plt.figure(figsize=(12, 6))\n",
    "\n",
    "# Plots a line for each currency\n",
    "for cur in plot_currencies:\n",
    "    subset = df[df['currency'] == cur]\n",
    "    plt.plot(subset['date'], subset['rate'], label=cur)\n",
    "\n",
    "# I made graphs and labels with styling\n",
    "plt.title(f\"Exchange Rate Over Time (Base: {base})\")\n",
    "plt.xlabel(\"Date\")\n",
    "plt.ylabel(\"Exchange Rate\")\n",
    "plt.legend()\n",
    "plt.grid(True)\n",
    "plt.tight_layout()\n",
    "plt.show()\n"
   ]
  },
  {
   "cell_type": "code",
   "execution_count": null,
   "id": "84c1759f-1944-47d8-a842-affd994e60b7",
   "metadata": {},
   "outputs": [],
   "source": []
  }
 ],
 "metadata": {
  "kernelspec": {
   "display_name": "Python 3",
   "language": "python",
   "name": "python3"
  },
  "language_info": {
   "codemirror_mode": {
    "name": "ipython",
    "version": 3
   },
   "file_extension": ".py",
   "mimetype": "text/x-python",
   "name": "python",
   "nbconvert_exporter": "python",
   "pygments_lexer": "ipython3",
   "version": "3.13.1"
  }
 },
 "nbformat": 4,
 "nbformat_minor": 5
}
